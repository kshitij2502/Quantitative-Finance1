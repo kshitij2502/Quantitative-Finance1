{
 "cells": [
  {
   "cell_type": "code",
   "execution_count": 1,
   "metadata": {},
   "outputs": [],
   "source": [
    "import pandas as pd\n",
    "import numpy as np"
   ]
  },
  {
   "cell_type": "markdown",
   "metadata": {},
   "source": [
    "## Mean-Variance Optimization\n",
    "\n",
    "### Q1 Summary Statistics"
   ]
  },
  {
   "cell_type": "code",
   "execution_count": 2,
   "metadata": {},
   "outputs": [
    {
     "data": {
      "text/html": [
       "<div>\n",
       "<style scoped>\n",
       "    .dataframe tbody tr th:only-of-type {\n",
       "        vertical-align: middle;\n",
       "    }\n",
       "\n",
       "    .dataframe tbody tr th {\n",
       "        vertical-align: top;\n",
       "    }\n",
       "\n",
       "    .dataframe thead th {\n",
       "        text-align: right;\n",
       "    }\n",
       "</style>\n",
       "<table border=\"1\" class=\"dataframe\">\n",
       "  <thead>\n",
       "    <tr style=\"text-align: right;\">\n",
       "      <th></th>\n",
       "      <th>Domestic Equity</th>\n",
       "      <th>Foreign Equity</th>\n",
       "      <th>Emerging Markets</th>\n",
       "      <th>Private Equity</th>\n",
       "      <th>Absolute Return</th>\n",
       "      <th>High Yield</th>\n",
       "      <th>Commodities</th>\n",
       "      <th>Real Estate</th>\n",
       "      <th>Domestic Bonds</th>\n",
       "      <th>Foreign Bonds</th>\n",
       "      <th>Inflation-Indexed</th>\n",
       "    </tr>\n",
       "    <tr>\n",
       "      <th>Dates</th>\n",
       "      <th></th>\n",
       "      <th></th>\n",
       "      <th></th>\n",
       "      <th></th>\n",
       "      <th></th>\n",
       "      <th></th>\n",
       "      <th></th>\n",
       "      <th></th>\n",
       "      <th></th>\n",
       "      <th></th>\n",
       "      <th></th>\n",
       "    </tr>\n",
       "  </thead>\n",
       "  <tbody>\n",
       "    <tr>\n",
       "      <td>2009-03-31</td>\n",
       "      <td>0.082349</td>\n",
       "      <td>0.082774</td>\n",
       "      <td>0.167482</td>\n",
       "      <td>0.152342</td>\n",
       "      <td>-0.012250</td>\n",
       "      <td>0.018166</td>\n",
       "      <td>0.043914</td>\n",
       "      <td>0.034089</td>\n",
       "      <td>0.031970</td>\n",
       "      <td>0.046377</td>\n",
       "      <td>0.057925</td>\n",
       "    </tr>\n",
       "    <tr>\n",
       "      <td>2009-04-30</td>\n",
       "      <td>0.098793</td>\n",
       "      <td>0.114638</td>\n",
       "      <td>0.155007</td>\n",
       "      <td>0.229647</td>\n",
       "      <td>0.022329</td>\n",
       "      <td>0.137877</td>\n",
       "      <td>-0.009741</td>\n",
       "      <td>0.295595</td>\n",
       "      <td>-0.028010</td>\n",
       "      <td>0.008439</td>\n",
       "      <td>-0.018521</td>\n",
       "    </tr>\n",
       "    <tr>\n",
       "      <td>2009-05-29</td>\n",
       "      <td>0.058921</td>\n",
       "      <td>0.132384</td>\n",
       "      <td>0.159879</td>\n",
       "      <td>0.054357</td>\n",
       "      <td>0.028333</td>\n",
       "      <td>0.028963</td>\n",
       "      <td>0.197137</td>\n",
       "      <td>0.023195</td>\n",
       "      <td>-0.020293</td>\n",
       "      <td>0.054136</td>\n",
       "      <td>0.020491</td>\n",
       "    </tr>\n",
       "    <tr>\n",
       "      <td>2009-06-30</td>\n",
       "      <td>-0.001272</td>\n",
       "      <td>-0.014908</td>\n",
       "      <td>-0.023120</td>\n",
       "      <td>0.044847</td>\n",
       "      <td>-0.004035</td>\n",
       "      <td>0.032761</td>\n",
       "      <td>0.005095</td>\n",
       "      <td>-0.025683</td>\n",
       "      <td>-0.006119</td>\n",
       "      <td>0.004552</td>\n",
       "      <td>0.001410</td>\n",
       "    </tr>\n",
       "    <tr>\n",
       "      <td>2009-07-31</td>\n",
       "      <td>0.074632</td>\n",
       "      <td>0.100439</td>\n",
       "      <td>0.110174</td>\n",
       "      <td>0.143274</td>\n",
       "      <td>0.015351</td>\n",
       "      <td>0.069189</td>\n",
       "      <td>0.004465</td>\n",
       "      <td>0.105825</td>\n",
       "      <td>0.008340</td>\n",
       "      <td>0.031310</td>\n",
       "      <td>0.000910</td>\n",
       "    </tr>\n",
       "  </tbody>\n",
       "</table>\n",
       "</div>"
      ],
      "text/plain": [
       "            Domestic Equity  Foreign Equity  Emerging Markets  Private Equity  \\\n",
       "Dates                                                                           \n",
       "2009-03-31         0.082349        0.082774          0.167482        0.152342   \n",
       "2009-04-30         0.098793        0.114638          0.155007        0.229647   \n",
       "2009-05-29         0.058921        0.132384          0.159879        0.054357   \n",
       "2009-06-30        -0.001272       -0.014908         -0.023120        0.044847   \n",
       "2009-07-31         0.074632        0.100439          0.110174        0.143274   \n",
       "\n",
       "            Absolute Return  High Yield  Commodities  Real Estate  \\\n",
       "Dates                                                               \n",
       "2009-03-31        -0.012250    0.018166     0.043914     0.034089   \n",
       "2009-04-30         0.022329    0.137877    -0.009741     0.295595   \n",
       "2009-05-29         0.028333    0.028963     0.197137     0.023195   \n",
       "2009-06-30        -0.004035    0.032761     0.005095    -0.025683   \n",
       "2009-07-31         0.015351    0.069189     0.004465     0.105825   \n",
       "\n",
       "            Domestic Bonds  Foreign Bonds  Inflation-Indexed  \n",
       "Dates                                                         \n",
       "2009-03-31        0.031970       0.046377           0.057925  \n",
       "2009-04-30       -0.028010       0.008439          -0.018521  \n",
       "2009-05-29       -0.020293       0.054136           0.020491  \n",
       "2009-06-30       -0.006119       0.004552           0.001410  \n",
       "2009-07-31        0.008340       0.031310           0.000910  "
      ]
     },
     "execution_count": 2,
     "metadata": {},
     "output_type": "execute_result"
    }
   ],
   "source": [
    "# load data and calculate excess return\n",
    "\n",
    "df = pd.read_excel('assetclass_data_monthly_2009.xlsX').set_index('Dates')\n",
    "risky_assets = df.columns[:-1]\n",
    "df_ex_ret = df[risky_assets].sub(df['Cash'],axis=0)\n",
    "df_ex_ret.head()"
   ]
  },
  {
   "cell_type": "code",
   "execution_count": 3,
   "metadata": {},
   "outputs": [
    {
     "data": {
      "text/html": [
       "<div>\n",
       "<style scoped>\n",
       "    .dataframe tbody tr th:only-of-type {\n",
       "        vertical-align: middle;\n",
       "    }\n",
       "\n",
       "    .dataframe tbody tr th {\n",
       "        vertical-align: top;\n",
       "    }\n",
       "\n",
       "    .dataframe thead th {\n",
       "        text-align: right;\n",
       "    }\n",
       "</style>\n",
       "<table border=\"1\" class=\"dataframe\">\n",
       "  <thead>\n",
       "    <tr style=\"text-align: right;\">\n",
       "      <th></th>\n",
       "      <th>mean</th>\n",
       "      <th>vol</th>\n",
       "      <th>sharpe ratio</th>\n",
       "    </tr>\n",
       "  </thead>\n",
       "  <tbody>\n",
       "    <tr>\n",
       "      <td>Domestic Equity</td>\n",
       "      <td>0.156341</td>\n",
       "      <td>0.129607</td>\n",
       "      <td>1.206268</td>\n",
       "    </tr>\n",
       "    <tr>\n",
       "      <td>Foreign Equity</td>\n",
       "      <td>0.097513</td>\n",
       "      <td>0.157670</td>\n",
       "      <td>0.618463</td>\n",
       "    </tr>\n",
       "    <tr>\n",
       "      <td>Emerging Markets</td>\n",
       "      <td>0.096396</td>\n",
       "      <td>0.201714</td>\n",
       "      <td>0.477885</td>\n",
       "    </tr>\n",
       "    <tr>\n",
       "      <td>Private Equity</td>\n",
       "      <td>0.163689</td>\n",
       "      <td>0.199588</td>\n",
       "      <td>0.820138</td>\n",
       "    </tr>\n",
       "    <tr>\n",
       "      <td>Absolute Return</td>\n",
       "      <td>0.023228</td>\n",
       "      <td>0.044232</td>\n",
       "      <td>0.525135</td>\n",
       "    </tr>\n",
       "    <tr>\n",
       "      <td>High Yield</td>\n",
       "      <td>0.088232</td>\n",
       "      <td>0.082886</td>\n",
       "      <td>1.064493</td>\n",
       "    </tr>\n",
       "    <tr>\n",
       "      <td>Commodities</td>\n",
       "      <td>-0.020108</td>\n",
       "      <td>0.190936</td>\n",
       "      <td>-0.105312</td>\n",
       "    </tr>\n",
       "    <tr>\n",
       "      <td>Real Estate</td>\n",
       "      <td>0.174774</td>\n",
       "      <td>0.174976</td>\n",
       "      <td>0.998844</td>\n",
       "    </tr>\n",
       "    <tr>\n",
       "      <td>Domestic Bonds</td>\n",
       "      <td>0.037121</td>\n",
       "      <td>0.058129</td>\n",
       "      <td>0.638601</td>\n",
       "    </tr>\n",
       "    <tr>\n",
       "      <td>Foreign Bonds</td>\n",
       "      <td>0.025314</td>\n",
       "      <td>0.076886</td>\n",
       "      <td>0.329236</td>\n",
       "    </tr>\n",
       "    <tr>\n",
       "      <td>Inflation-Indexed</td>\n",
       "      <td>0.035851</td>\n",
       "      <td>0.048295</td>\n",
       "      <td>0.742326</td>\n",
       "    </tr>\n",
       "  </tbody>\n",
       "</table>\n",
       "</div>"
      ],
      "text/plain": [
       "                       mean       vol  sharpe ratio\n",
       "Domestic Equity    0.156341  0.129607      1.206268\n",
       "Foreign Equity     0.097513  0.157670      0.618463\n",
       "Emerging Markets   0.096396  0.201714      0.477885\n",
       "Private Equity     0.163689  0.199588      0.820138\n",
       "Absolute Return    0.023228  0.044232      0.525135\n",
       "High Yield         0.088232  0.082886      1.064493\n",
       "Commodities       -0.020108  0.190936     -0.105312\n",
       "Real Estate        0.174774  0.174976      0.998844\n",
       "Domestic Bonds     0.037121  0.058129      0.638601\n",
       "Foreign Bonds      0.025314  0.076886      0.329236\n",
       "Inflation-Indexed  0.035851  0.048295      0.742326"
      ]
     },
     "execution_count": 3,
     "metadata": {},
     "output_type": "execute_result"
    }
   ],
   "source": [
    "# calculate annualized mean, vol and sharpe ratio\n",
    "\n",
    "table1 = pd.DataFrame(columns=['mean','vol','sharpe ratio'], index=df_ex_ret.columns)\n",
    "table1['mean'] = df_ex_ret.mean() * 12\n",
    "table1['vol'] = df_ex_ret.std()*np.sqrt(12)\n",
    "table1['sharpe ratio'] = table1['mean']/table1['vol']\n",
    "table1"
   ]
  },
  {
   "cell_type": "markdown",
   "metadata": {},
   "source": [
    "### Q2 The MV Frontier\n",
    "\n",
    "#### (a)"
   ]
  },
  {
   "cell_type": "code",
   "execution_count": 4,
   "metadata": {},
   "outputs": [
    {
     "data": {
      "text/plain": [
       "Domestic Equity      1.100132\n",
       "Foreign Equity      -0.045800\n",
       "Emerging Markets    -0.144565\n",
       "Private Equity      -0.166304\n",
       "Absolute Return     -1.166062\n",
       "High Yield           0.791084\n",
       "Commodities         -0.117513\n",
       "Real Estate         -0.215180\n",
       "Domestic Bonds       0.799114\n",
       "Foreign Bonds       -0.022817\n",
       "Inflation-Indexed    0.187910\n",
       "dtype: float64"
      ]
     },
     "execution_count": 4,
     "metadata": {},
     "output_type": "execute_result"
    }
   ],
   "source": [
    "# define a function to calcute MV portfolio weights\n",
    "# diag: default parameter. if set true, use diagonal covariance matrix for MV calculation\n",
    "\n",
    "def compute_mv(data, diag=False):\n",
    "    mu_tilde = data.mean()\n",
    "    covariance = data.cov()\n",
    "    if diag:\n",
    "        covariance = np.diag(np.diag(covariance))\n",
    "    N = covariance.shape[0]\n",
    "    cov_inv = np.linalg.inv(covariance)\n",
    "    omega_tan = cov_inv @ mu_tilde /(np.ones(N) @ cov_inv @ mu_tilde)\n",
    "    return pd.Series(omega_tan,index=data.columns)\n",
    "\n",
    "omega_tan = compute_mv(df_ex_ret)\n",
    "omega_tan"
   ]
  },
  {
   "cell_type": "markdown",
   "metadata": {},
   "source": [
    "#### (b)"
   ]
  },
  {
   "cell_type": "code",
   "execution_count": 5,
   "metadata": {},
   "outputs": [
    {
     "data": {
      "text/html": [
       "<div>\n",
       "<style scoped>\n",
       "    .dataframe tbody tr th:only-of-type {\n",
       "        vertical-align: middle;\n",
       "    }\n",
       "\n",
       "    .dataframe tbody tr th {\n",
       "        vertical-align: top;\n",
       "    }\n",
       "\n",
       "    .dataframe thead th {\n",
       "        text-align: right;\n",
       "    }\n",
       "</style>\n",
       "<table border=\"1\" class=\"dataframe\">\n",
       "  <thead>\n",
       "    <tr style=\"text-align: right;\">\n",
       "      <th></th>\n",
       "      <th>Stat</th>\n",
       "    </tr>\n",
       "  </thead>\n",
       "  <tbody>\n",
       "    <tr>\n",
       "      <td>Fraction in Risky Asset</td>\n",
       "      <td>1.000000</td>\n",
       "    </tr>\n",
       "    <tr>\n",
       "      <td>Mean</td>\n",
       "      <td>0.169664</td>\n",
       "    </tr>\n",
       "    <tr>\n",
       "      <td>Volatlity</td>\n",
       "      <td>0.071755</td>\n",
       "    </tr>\n",
       "    <tr>\n",
       "      <td>Sharpe Ratio</td>\n",
       "      <td>2.364485</td>\n",
       "    </tr>\n",
       "  </tbody>\n",
       "</table>\n",
       "</div>"
      ],
      "text/plain": [
       "                             Stat\n",
       "Fraction in Risky Asset  1.000000\n",
       "Mean                     0.169664\n",
       "Volatlity                0.071755\n",
       "Sharpe Ratio             2.364485"
      ]
     },
     "execution_count": 5,
     "metadata": {},
     "output_type": "execute_result"
    }
   ],
   "source": [
    "# define a function to calculate portfolio statistics. Default to report annual result\n",
    "\n",
    "def portfolio_stats(omega, mu_tilde, Sigma, annualize_factor=12):\n",
    "    mean = annualize_factor * mu_tilde @ omega\n",
    "    vol = np.sqrt(annualize_factor) * np.sqrt(omega @ Sigma @ omega)\n",
    "    sharpe_ratio = mean/vol\n",
    "    df_stats = pd.DataFrame([omega.sum(), mean, vol, sharpe_ratio],\n",
    "        index=['Fraction in Risky Asset', 'Mean', 'Volatlity', 'Sharpe Ratio'],\n",
    "        columns=['Stat'])\n",
    "    return df_stats\n",
    "\n",
    "portfolio_stats(omega_tan, df_ex_ret.mean(), df_ex_ret.cov())"
   ]
  },
  {
   "cell_type": "markdown",
   "metadata": {},
   "source": [
    "### Q3 The Allocation\n",
    "\n",
    "#### (a)"
   ]
  },
  {
   "cell_type": "code",
   "execution_count": 6,
   "metadata": {},
   "outputs": [],
   "source": [
    "# define a function to calculate MV portfolio weights with target return. Default target return is 0.0067\n",
    "\n",
    "def target_mv_portfolio(data,mu_p=0.0067,diag=False):\n",
    "    mu_tilde = data.mean()\n",
    "    covariance = data.cov()\n",
    "    if diag:\n",
    "        covariance = np.diag(np.diag(covariance))\n",
    "    N = covariance.shape[0]\n",
    "    cov_inv = np.linalg.inv(covariance)\n",
    "    omega_tan = cov_inv @ mu_tilde /(np.ones(N) @ cov_inv @ mu_tilde)\n",
    "    mu_tan = omega_tan @ data.mean()\n",
    "    delta_tilde =mu_p/mu_tan\n",
    "    omega_star = delta_tilde * omega_tan\n",
    "    \n",
    "    return pd.Series(omega_star,index=data.columns)"
   ]
  },
  {
   "cell_type": "code",
   "execution_count": 7,
   "metadata": {},
   "outputs": [
    {
     "data": {
      "text/plain": [
       "Domestic Equity      0.521328\n",
       "Foreign Equity      -0.021704\n",
       "Emerging Markets    -0.068506\n",
       "Private Equity      -0.078808\n",
       "Absolute Return     -0.552571\n",
       "High Yield           0.374877\n",
       "Commodities         -0.055687\n",
       "Real Estate         -0.101969\n",
       "Domestic Bonds       0.378682\n",
       "Foreign Bonds       -0.010812\n",
       "Inflation-Indexed    0.089046\n",
       "dtype: float64"
      ]
     },
     "execution_count": 7,
     "metadata": {},
     "output_type": "execute_result"
    }
   ],
   "source": [
    "omega_star = target_mv_portfolio(df_ex_ret)\n",
    "omega_star"
   ]
  },
  {
   "cell_type": "markdown",
   "metadata": {},
   "source": [
    "#### (b)"
   ]
  },
  {
   "cell_type": "code",
   "execution_count": 8,
   "metadata": {},
   "outputs": [
    {
     "data": {
      "text/html": [
       "<div>\n",
       "<style scoped>\n",
       "    .dataframe tbody tr th:only-of-type {\n",
       "        vertical-align: middle;\n",
       "    }\n",
       "\n",
       "    .dataframe tbody tr th {\n",
       "        vertical-align: top;\n",
       "    }\n",
       "\n",
       "    .dataframe thead th {\n",
       "        text-align: right;\n",
       "    }\n",
       "</style>\n",
       "<table border=\"1\" class=\"dataframe\">\n",
       "  <thead>\n",
       "    <tr style=\"text-align: right;\">\n",
       "      <th></th>\n",
       "      <th>Stat</th>\n",
       "    </tr>\n",
       "  </thead>\n",
       "  <tbody>\n",
       "    <tr>\n",
       "      <td>Fraction in Risky Asset</td>\n",
       "      <td>0.473878</td>\n",
       "    </tr>\n",
       "    <tr>\n",
       "      <td>Mean</td>\n",
       "      <td>0.080400</td>\n",
       "    </tr>\n",
       "    <tr>\n",
       "      <td>Volatlity</td>\n",
       "      <td>0.034003</td>\n",
       "    </tr>\n",
       "    <tr>\n",
       "      <td>Sharpe Ratio</td>\n",
       "      <td>2.364485</td>\n",
       "    </tr>\n",
       "  </tbody>\n",
       "</table>\n",
       "</div>"
      ],
      "text/plain": [
       "                             Stat\n",
       "Fraction in Risky Asset  0.473878\n",
       "Mean                     0.080400\n",
       "Volatlity                0.034003\n",
       "Sharpe Ratio             2.364485"
      ]
     },
     "execution_count": 8,
     "metadata": {},
     "output_type": "execute_result"
    }
   ],
   "source": [
    "portfolio_stats(omega_star, df_ex_ret.mean(), df_ex_ret.cov())"
   ]
  },
  {
   "cell_type": "markdown",
   "metadata": {},
   "source": [
    "#### (c)"
   ]
  },
  {
   "cell_type": "code",
   "execution_count": 9,
   "metadata": {},
   "outputs": [
    {
     "data": {
      "text/plain": [
       "Domestic Equity      0.521328\n",
       "Domestic Bonds       0.378682\n",
       "High Yield           0.374877\n",
       "Inflation-Indexed    0.089046\n",
       "Foreign Bonds       -0.010812\n",
       "Foreign Equity      -0.021704\n",
       "Commodities         -0.055687\n",
       "Emerging Markets    -0.068506\n",
       "Private Equity      -0.078808\n",
       "Real Estate         -0.101969\n",
       "Absolute Return     -0.552571\n",
       "dtype: float64"
      ]
     },
     "execution_count": 9,
     "metadata": {},
     "output_type": "execute_result"
    }
   ],
   "source": [
    "omega_star.sort_values(ascending=False)"
   ]
  },
  {
   "cell_type": "markdown",
   "metadata": {},
   "source": [
    "#### (d)  \n",
    "\n",
    "see PDF"
   ]
  },
  {
   "cell_type": "markdown",
   "metadata": {},
   "source": [
    "### Q4 Long-Short Positions\n",
    "\n",
    "#### (a)"
   ]
  },
  {
   "cell_type": "code",
   "execution_count": 10,
   "metadata": {},
   "outputs": [
    {
     "data": {
      "text/plain": [
       "Domestic Equity    0.769695\n",
       "Foreign Equity    -0.409531\n",
       "dtype: float64"
      ]
     },
     "execution_count": 10,
     "metadata": {},
     "output_type": "execute_result"
    }
   ],
   "source": [
    "df_Q4 = df_ex_ret[['Domestic Equity','Foreign Equity']]\n",
    "omega_star = target_mv_portfolio(df_Q4)\n",
    "omega_star"
   ]
  },
  {
   "cell_type": "code",
   "execution_count": 11,
   "metadata": {},
   "outputs": [
    {
     "data": {
      "text/html": [
       "<div>\n",
       "<style scoped>\n",
       "    .dataframe tbody tr th:only-of-type {\n",
       "        vertical-align: middle;\n",
       "    }\n",
       "\n",
       "    .dataframe tbody tr th {\n",
       "        vertical-align: top;\n",
       "    }\n",
       "\n",
       "    .dataframe thead th {\n",
       "        text-align: right;\n",
       "    }\n",
       "</style>\n",
       "<table border=\"1\" class=\"dataframe\">\n",
       "  <thead>\n",
       "    <tr style=\"text-align: right;\">\n",
       "      <th></th>\n",
       "      <th>Stat</th>\n",
       "    </tr>\n",
       "  </thead>\n",
       "  <tbody>\n",
       "    <tr>\n",
       "      <td>Fraction in Risky Asset</td>\n",
       "      <td>0.360164</td>\n",
       "    </tr>\n",
       "    <tr>\n",
       "      <td>Mean</td>\n",
       "      <td>0.080400</td>\n",
       "    </tr>\n",
       "    <tr>\n",
       "      <td>Volatlity</td>\n",
       "      <td>0.053858</td>\n",
       "    </tr>\n",
       "    <tr>\n",
       "      <td>Sharpe Ratio</td>\n",
       "      <td>1.492813</td>\n",
       "    </tr>\n",
       "  </tbody>\n",
       "</table>\n",
       "</div>"
      ],
      "text/plain": [
       "                             Stat\n",
       "Fraction in Risky Asset  0.360164\n",
       "Mean                     0.080400\n",
       "Volatlity                0.053858\n",
       "Sharpe Ratio             1.492813"
      ]
     },
     "execution_count": 11,
     "metadata": {},
     "output_type": "execute_result"
    }
   ],
   "source": [
    "portfolio_stats(omega_star, df_Q4.mean(), df_Q4.cov())"
   ]
  },
  {
   "cell_type": "markdown",
   "metadata": {},
   "source": [
    "#### (b)\n",
    "\n",
    "see PDF"
   ]
  },
  {
   "cell_type": "markdown",
   "metadata": {},
   "source": [
    "#### (c)"
   ]
  },
  {
   "cell_type": "code",
   "execution_count": 12,
   "metadata": {},
   "outputs": [
    {
     "data": {
      "text/plain": [
       "Domestic Equity    0.780259\n",
       "Foreign Equity    -0.379738\n",
       "dtype: float64"
      ]
     },
     "execution_count": 12,
     "metadata": {},
     "output_type": "execute_result"
    }
   ],
   "source": [
    "df_Q4_adjusted = df_Q4.copy()\n",
    "df_Q4_adjusted.loc[:,'Foreign Equity'] = df_Q4.loc[:,'Foreign Equity'] + 0.001\n",
    "omega_star = target_mv_portfolio(df_Q4_adjusted)   \n",
    "omega_star"
   ]
  },
  {
   "cell_type": "code",
   "execution_count": 13,
   "metadata": {},
   "outputs": [
    {
     "data": {
      "text/html": [
       "<div>\n",
       "<style scoped>\n",
       "    .dataframe tbody tr th:only-of-type {\n",
       "        vertical-align: middle;\n",
       "    }\n",
       "\n",
       "    .dataframe tbody tr th {\n",
       "        vertical-align: top;\n",
       "    }\n",
       "\n",
       "    .dataframe thead th {\n",
       "        text-align: right;\n",
       "    }\n",
       "</style>\n",
       "<table border=\"1\" class=\"dataframe\">\n",
       "  <thead>\n",
       "    <tr style=\"text-align: right;\">\n",
       "      <th></th>\n",
       "      <th>Stat</th>\n",
       "    </tr>\n",
       "  </thead>\n",
       "  <tbody>\n",
       "    <tr>\n",
       "      <td>Fraction in Risky Asset</td>\n",
       "      <td>0.400521</td>\n",
       "    </tr>\n",
       "    <tr>\n",
       "      <td>Mean</td>\n",
       "      <td>0.080400</td>\n",
       "    </tr>\n",
       "    <tr>\n",
       "      <td>Volatlity</td>\n",
       "      <td>0.057137</td>\n",
       "    </tr>\n",
       "    <tr>\n",
       "      <td>Sharpe Ratio</td>\n",
       "      <td>1.407144</td>\n",
       "    </tr>\n",
       "  </tbody>\n",
       "</table>\n",
       "</div>"
      ],
      "text/plain": [
       "                             Stat\n",
       "Fraction in Risky Asset  0.400521\n",
       "Mean                     0.080400\n",
       "Volatlity                0.057137\n",
       "Sharpe Ratio             1.407144"
      ]
     },
     "execution_count": 13,
     "metadata": {},
     "output_type": "execute_result"
    }
   ],
   "source": [
    "portfolio_stats(omega_star, df_Q4_adjusted.mean(), df_Q4_adjusted.cov())"
   ]
  },
  {
   "cell_type": "markdown",
   "metadata": {},
   "source": [
    "#### (d)\n",
    "\n",
    "see PDF"
   ]
  },
  {
   "cell_type": "markdown",
   "metadata": {},
   "source": [
    "### Q5 Robustness"
   ]
  },
  {
   "cell_type": "code",
   "execution_count": 14,
   "metadata": {},
   "outputs": [
    {
     "data": {
      "text/plain": [
       "Domestic Equity      0.120236\n",
       "Foreign Equity       0.050674\n",
       "Emerging Markets     0.030606\n",
       "Private Equity       0.053085\n",
       "Absolute Return      0.153376\n",
       "High Yield           0.165913\n",
       "Commodities         -0.007125\n",
       "Real Estate          0.073746\n",
       "Domestic Bonds       0.141925\n",
       "Foreign Bonds        0.055320\n",
       "Inflation-Indexed    0.198569\n",
       "dtype: float64"
      ]
     },
     "execution_count": 14,
     "metadata": {},
     "output_type": "execute_result"
    }
   ],
   "source": [
    "# use diagonal covariance matrix to compute MV portfolio\n",
    "\n",
    "omega_star = target_mv_portfolio(df_ex_ret,0.0067,True)\n",
    "omega_star"
   ]
  },
  {
   "cell_type": "code",
   "execution_count": 15,
   "metadata": {},
   "outputs": [
    {
     "data": {
      "text/html": [
       "<div>\n",
       "<style scoped>\n",
       "    .dataframe tbody tr th:only-of-type {\n",
       "        vertical-align: middle;\n",
       "    }\n",
       "\n",
       "    .dataframe tbody tr th {\n",
       "        vertical-align: top;\n",
       "    }\n",
       "\n",
       "    .dataframe thead th {\n",
       "        text-align: right;\n",
       "    }\n",
       "</style>\n",
       "<table border=\"1\" class=\"dataframe\">\n",
       "  <thead>\n",
       "    <tr style=\"text-align: right;\">\n",
       "      <th></th>\n",
       "      <th>Stat</th>\n",
       "    </tr>\n",
       "  </thead>\n",
       "  <tbody>\n",
       "    <tr>\n",
       "      <td>Fraction in Risky Asset</td>\n",
       "      <td>1.036324</td>\n",
       "    </tr>\n",
       "    <tr>\n",
       "      <td>Mean</td>\n",
       "      <td>0.080400</td>\n",
       "    </tr>\n",
       "    <tr>\n",
       "      <td>Volatlity</td>\n",
       "      <td>0.068709</td>\n",
       "    </tr>\n",
       "    <tr>\n",
       "      <td>Sharpe Ratio</td>\n",
       "      <td>1.170159</td>\n",
       "    </tr>\n",
       "  </tbody>\n",
       "</table>\n",
       "</div>"
      ],
      "text/plain": [
       "                             Stat\n",
       "Fraction in Risky Asset  1.036324\n",
       "Mean                     0.080400\n",
       "Volatlity                0.068709\n",
       "Sharpe Ratio             1.170159"
      ]
     },
     "execution_count": 15,
     "metadata": {},
     "output_type": "execute_result"
    }
   ],
   "source": [
    "portfolio_stats(omega_star, df_ex_ret.mean(), df_ex_ret.cov())"
   ]
  },
  {
   "cell_type": "markdown",
   "metadata": {},
   "source": [
    "#### (b) (c)\n",
    "\n",
    "see PDF"
   ]
  },
  {
   "cell_type": "markdown",
   "metadata": {},
   "source": [
    "### Q6 Out-of-Sample Performance\n",
    "\n",
    "#### (a)"
   ]
  },
  {
   "cell_type": "code",
   "execution_count": 16,
   "metadata": {
    "scrolled": true
   },
   "outputs": [
    {
     "data": {
      "text/plain": [
       "Domestic Equity      0.469822\n",
       "Foreign Equity      -0.041204\n",
       "Emerging Markets    -0.078779\n",
       "Private Equity      -0.062163\n",
       "Absolute Return     -0.340700\n",
       "High Yield           0.318027\n",
       "Commodities         -0.037083\n",
       "Real Estate         -0.084349\n",
       "Domestic Bonds       0.297214\n",
       "Foreign Bonds       -0.062232\n",
       "Inflation-Indexed    0.147943\n",
       "dtype: float64"
      ]
     },
     "execution_count": 16,
     "metadata": {},
     "output_type": "execute_result"
    }
   ],
   "source": [
    "in_sample_df = df_ex_ret.loc[:'2016-12']\n",
    "OOS_df = df_ex_ret.loc['2017-01':]\n",
    "\n",
    "omega_in_sample = target_mv_portfolio(in_sample_df)\n",
    "omega_in_sample"
   ]
  },
  {
   "cell_type": "markdown",
   "metadata": {},
   "source": [
    "#### (b)"
   ]
  },
  {
   "cell_type": "code",
   "execution_count": 17,
   "metadata": {},
   "outputs": [
    {
     "data": {
      "text/html": [
       "<div>\n",
       "<style scoped>\n",
       "    .dataframe tbody tr th:only-of-type {\n",
       "        vertical-align: middle;\n",
       "    }\n",
       "\n",
       "    .dataframe tbody tr th {\n",
       "        vertical-align: top;\n",
       "    }\n",
       "\n",
       "    .dataframe thead th {\n",
       "        text-align: right;\n",
       "    }\n",
       "</style>\n",
       "<table border=\"1\" class=\"dataframe\">\n",
       "  <thead>\n",
       "    <tr style=\"text-align: right;\">\n",
       "      <th></th>\n",
       "      <th>Stat</th>\n",
       "    </tr>\n",
       "  </thead>\n",
       "  <tbody>\n",
       "    <tr>\n",
       "      <td>Fraction in Risky Asset</td>\n",
       "      <td>0.526496</td>\n",
       "    </tr>\n",
       "    <tr>\n",
       "      <td>Mean</td>\n",
       "      <td>0.080400</td>\n",
       "    </tr>\n",
       "    <tr>\n",
       "      <td>Volatlity</td>\n",
       "      <td>0.030861</td>\n",
       "    </tr>\n",
       "    <tr>\n",
       "      <td>Sharpe Ratio</td>\n",
       "      <td>2.605229</td>\n",
       "    </tr>\n",
       "  </tbody>\n",
       "</table>\n",
       "</div>"
      ],
      "text/plain": [
       "                             Stat\n",
       "Fraction in Risky Asset  0.526496\n",
       "Mean                     0.080400\n",
       "Volatlity                0.030861\n",
       "Sharpe Ratio             2.605229"
      ]
     },
     "execution_count": 17,
     "metadata": {},
     "output_type": "execute_result"
    }
   ],
   "source": [
    "df_stats_in_sample = portfolio_stats(omega_in_sample,in_sample_df.mean(),in_sample_df.cov())\n",
    "df_stats_in_sample"
   ]
  },
  {
   "cell_type": "markdown",
   "metadata": {},
   "source": [
    "#### (c)"
   ]
  },
  {
   "cell_type": "code",
   "execution_count": 18,
   "metadata": {},
   "outputs": [
    {
     "data": {
      "text/html": [
       "<div>\n",
       "<style scoped>\n",
       "    .dataframe tbody tr th:only-of-type {\n",
       "        vertical-align: middle;\n",
       "    }\n",
       "\n",
       "    .dataframe tbody tr th {\n",
       "        vertical-align: top;\n",
       "    }\n",
       "\n",
       "    .dataframe thead th {\n",
       "        text-align: right;\n",
       "    }\n",
       "</style>\n",
       "<table border=\"1\" class=\"dataframe\">\n",
       "  <thead>\n",
       "    <tr style=\"text-align: right;\">\n",
       "      <th></th>\n",
       "      <th>Stat</th>\n",
       "    </tr>\n",
       "  </thead>\n",
       "  <tbody>\n",
       "    <tr>\n",
       "      <td>Fraction in Risky Asset</td>\n",
       "      <td>0.526496</td>\n",
       "    </tr>\n",
       "    <tr>\n",
       "      <td>Mean</td>\n",
       "      <td>0.050292</td>\n",
       "    </tr>\n",
       "    <tr>\n",
       "      <td>Volatlity</td>\n",
       "      <td>0.031903</td>\n",
       "    </tr>\n",
       "    <tr>\n",
       "      <td>Sharpe Ratio</td>\n",
       "      <td>1.576403</td>\n",
       "    </tr>\n",
       "  </tbody>\n",
       "</table>\n",
       "</div>"
      ],
      "text/plain": [
       "                             Stat\n",
       "Fraction in Risky Asset  0.526496\n",
       "Mean                     0.050292\n",
       "Volatlity                0.031903\n",
       "Sharpe Ratio             1.576403"
      ]
     },
     "execution_count": 18,
     "metadata": {},
     "output_type": "execute_result"
    }
   ],
   "source": [
    "df_stats_out_of_sample = portfolio_stats(omega_in_sample,OOS_df.mean(), OOS_df.cov())\n",
    "df_stats_out_of_sample"
   ]
  },
  {
   "cell_type": "markdown",
   "metadata": {},
   "source": [
    "#### (d)\n",
    "\n",
    "Discussion see PDF"
   ]
  },
  {
   "cell_type": "code",
   "execution_count": 19,
   "metadata": {},
   "outputs": [
    {
     "data": {
      "text/plain": [
       "Domestic Equity      0.773167\n",
       "Foreign Equity       0.049974\n",
       "Emerging Markets     0.108954\n",
       "Private Equity       0.075912\n",
       "Absolute Return     -2.572672\n",
       "High Yield          -0.402142\n",
       "Commodities          0.110183\n",
       "Real Estate          0.000042\n",
       "Domestic Bonds       1.303917\n",
       "Foreign Bonds        0.117154\n",
       "Inflation-Indexed   -1.104505\n",
       "dtype: float64"
      ]
     },
     "execution_count": 19,
     "metadata": {},
     "output_type": "execute_result"
    }
   ],
   "source": [
    "# in-sample MV portfolio using data 2017-2019\n",
    "\n",
    "in_sample_df_17_19 = df_ex_ret.loc['2017-01':]\n",
    "omega_in_sample_17_19 = target_mv_portfolio(in_sample_df_17_19)\n",
    "omega_in_sample_17_19"
   ]
  },
  {
   "cell_type": "code",
   "execution_count": 20,
   "metadata": {},
   "outputs": [
    {
     "data": {
      "text/html": [
       "<div>\n",
       "<style scoped>\n",
       "    .dataframe tbody tr th:only-of-type {\n",
       "        vertical-align: middle;\n",
       "    }\n",
       "\n",
       "    .dataframe tbody tr th {\n",
       "        vertical-align: top;\n",
       "    }\n",
       "\n",
       "    .dataframe thead th {\n",
       "        text-align: right;\n",
       "    }\n",
       "</style>\n",
       "<table border=\"1\" class=\"dataframe\">\n",
       "  <thead>\n",
       "    <tr style=\"text-align: right;\">\n",
       "      <th></th>\n",
       "      <th>Stat</th>\n",
       "    </tr>\n",
       "  </thead>\n",
       "  <tbody>\n",
       "    <tr>\n",
       "      <td>Fraction in Risky Asset</td>\n",
       "      <td>-1.540017</td>\n",
       "    </tr>\n",
       "    <tr>\n",
       "      <td>Mean</td>\n",
       "      <td>0.080400</td>\n",
       "    </tr>\n",
       "    <tr>\n",
       "      <td>Volatlity</td>\n",
       "      <td>0.028185</td>\n",
       "    </tr>\n",
       "    <tr>\n",
       "      <td>Sharpe Ratio</td>\n",
       "      <td>2.852554</td>\n",
       "    </tr>\n",
       "  </tbody>\n",
       "</table>\n",
       "</div>"
      ],
      "text/plain": [
       "                             Stat\n",
       "Fraction in Risky Asset -1.540017\n",
       "Mean                     0.080400\n",
       "Volatlity                0.028185\n",
       "Sharpe Ratio             2.852554"
      ]
     },
     "execution_count": 20,
     "metadata": {},
     "output_type": "execute_result"
    }
   ],
   "source": [
    "df_stats_in_sample_17_19 = portfolio_stats(omega_in_sample_17_19,in_sample_df_17_19.mean(),in_sample_df_17_19.cov())\n",
    "df_stats_in_sample_17_19"
   ]
  },
  {
   "cell_type": "code",
   "execution_count": 21,
   "metadata": {},
   "outputs": [
    {
     "data": {
      "text/html": [
       "<div>\n",
       "<style scoped>\n",
       "    .dataframe tbody tr th:only-of-type {\n",
       "        vertical-align: middle;\n",
       "    }\n",
       "\n",
       "    .dataframe tbody tr th {\n",
       "        vertical-align: top;\n",
       "    }\n",
       "\n",
       "    .dataframe thead th {\n",
       "        text-align: right;\n",
       "    }\n",
       "</style>\n",
       "<table border=\"1\" class=\"dataframe\">\n",
       "  <thead>\n",
       "    <tr style=\"text-align: right;\">\n",
       "      <th></th>\n",
       "      <th>Mean</th>\n",
       "      <th>Volatlity</th>\n",
       "      <th>Sharpe Ratio</th>\n",
       "    </tr>\n",
       "  </thead>\n",
       "  <tbody>\n",
       "    <tr>\n",
       "      <td>In-Sample: 2000-2016</td>\n",
       "      <td>0.080400</td>\n",
       "      <td>0.030861</td>\n",
       "      <td>2.605229</td>\n",
       "    </tr>\n",
       "    <tr>\n",
       "      <td>Out-of-Sample</td>\n",
       "      <td>0.050292</td>\n",
       "      <td>0.031903</td>\n",
       "      <td>1.576403</td>\n",
       "    </tr>\n",
       "    <tr>\n",
       "      <td>In-Sample: 2017-2019</td>\n",
       "      <td>0.080400</td>\n",
       "      <td>0.028185</td>\n",
       "      <td>2.852554</td>\n",
       "    </tr>\n",
       "  </tbody>\n",
       "</table>\n",
       "</div>"
      ],
      "text/plain": [
       "                          Mean  Volatlity  Sharpe Ratio\n",
       "In-Sample: 2000-2016  0.080400   0.030861      2.605229\n",
       "Out-of-Sample         0.050292   0.031903      1.576403\n",
       "In-Sample: 2017-2019  0.080400   0.028185      2.852554"
      ]
     },
     "execution_count": 21,
     "metadata": {},
     "output_type": "execute_result"
    }
   ],
   "source": [
    "# summary of in-sample and out-of-sample performance\n",
    "\n",
    "(pd.DataFrame([\n",
    "    df_stats_in_sample['Stat'],\n",
    "    df_stats_out_of_sample['Stat'],\n",
    "    df_stats_in_sample_17_19['Stat']\n",
    "    ], index=['In-Sample: 2000-2016', 'Out-of-Sample', 'In-Sample: 2017-2019'])\n",
    "    ).drop(columns=['Fraction in Risky Asset'])"
   ]
  },
  {
   "cell_type": "markdown",
   "metadata": {},
   "source": [
    "### Q7 Robust Out-of-Sample Performance"
   ]
  },
  {
   "cell_type": "code",
   "execution_count": 22,
   "metadata": {},
   "outputs": [
    {
     "data": {
      "text/plain": [
       "Domestic Equity      0.113155\n",
       "Foreign Equity       0.043135\n",
       "Emerging Markets     0.025865\n",
       "Private Equity       0.047495\n",
       "Absolute Return      0.139586\n",
       "High Yield           0.142795\n",
       "Commodities         -0.006866\n",
       "Real Estate          0.063752\n",
       "Domestic Bonds       0.116634\n",
       "Foreign Bonds        0.038396\n",
       "Inflation-Indexed    0.172149\n",
       "dtype: float64"
      ]
     },
     "execution_count": 22,
     "metadata": {},
     "output_type": "execute_result"
    }
   ],
   "source": [
    "# in-sample MV portfolio using data through 2016 and diagonal covariance matrix\n",
    "\n",
    "in_sample_df = df_ex_ret.loc[:'2016-12']\n",
    "OOS_df = df_ex_ret.loc['2017-01':]\n",
    "omega_in_sample = target_mv_portfolio(in_sample_df,0.0067,True)\n",
    "omega_in_sample"
   ]
  },
  {
   "cell_type": "code",
   "execution_count": 23,
   "metadata": {},
   "outputs": [
    {
     "data": {
      "text/html": [
       "<div>\n",
       "<style scoped>\n",
       "    .dataframe tbody tr th:only-of-type {\n",
       "        vertical-align: middle;\n",
       "    }\n",
       "\n",
       "    .dataframe tbody tr th {\n",
       "        vertical-align: top;\n",
       "    }\n",
       "\n",
       "    .dataframe thead th {\n",
       "        text-align: right;\n",
       "    }\n",
       "</style>\n",
       "<table border=\"1\" class=\"dataframe\">\n",
       "  <thead>\n",
       "    <tr style=\"text-align: right;\">\n",
       "      <th></th>\n",
       "      <th>Stat</th>\n",
       "    </tr>\n",
       "  </thead>\n",
       "  <tbody>\n",
       "    <tr>\n",
       "      <td>Fraction in Risky Asset</td>\n",
       "      <td>0.896095</td>\n",
       "    </tr>\n",
       "    <tr>\n",
       "      <td>Mean</td>\n",
       "      <td>0.080400</td>\n",
       "    </tr>\n",
       "    <tr>\n",
       "      <td>Volatlity</td>\n",
       "      <td>0.064872</td>\n",
       "    </tr>\n",
       "    <tr>\n",
       "      <td>Sharpe Ratio</td>\n",
       "      <td>1.239368</td>\n",
       "    </tr>\n",
       "  </tbody>\n",
       "</table>\n",
       "</div>"
      ],
      "text/plain": [
       "                             Stat\n",
       "Fraction in Risky Asset  0.896095\n",
       "Mean                     0.080400\n",
       "Volatlity                0.064872\n",
       "Sharpe Ratio             1.239368"
      ]
     },
     "execution_count": 23,
     "metadata": {},
     "output_type": "execute_result"
    }
   ],
   "source": [
    "df_stats_in_sample = portfolio_stats(omega_in_sample,in_sample_df.mean(),in_sample_df.cov())\n",
    "df_stats_in_sample"
   ]
  },
  {
   "cell_type": "code",
   "execution_count": 24,
   "metadata": {},
   "outputs": [
    {
     "data": {
      "text/html": [
       "<div>\n",
       "<style scoped>\n",
       "    .dataframe tbody tr th:only-of-type {\n",
       "        vertical-align: middle;\n",
       "    }\n",
       "\n",
       "    .dataframe tbody tr th {\n",
       "        vertical-align: top;\n",
       "    }\n",
       "\n",
       "    .dataframe thead th {\n",
       "        text-align: right;\n",
       "    }\n",
       "</style>\n",
       "<table border=\"1\" class=\"dataframe\">\n",
       "  <thead>\n",
       "    <tr style=\"text-align: right;\">\n",
       "      <th></th>\n",
       "      <th>Stat</th>\n",
       "    </tr>\n",
       "  </thead>\n",
       "  <tbody>\n",
       "    <tr>\n",
       "      <td>Fraction in Risky Asset</td>\n",
       "      <td>0.896095</td>\n",
       "    </tr>\n",
       "    <tr>\n",
       "      <td>Mean</td>\n",
       "      <td>0.043298</td>\n",
       "    </tr>\n",
       "    <tr>\n",
       "      <td>Volatlity</td>\n",
       "      <td>0.044173</td>\n",
       "    </tr>\n",
       "    <tr>\n",
       "      <td>Sharpe Ratio</td>\n",
       "      <td>0.980193</td>\n",
       "    </tr>\n",
       "  </tbody>\n",
       "</table>\n",
       "</div>"
      ],
      "text/plain": [
       "                             Stat\n",
       "Fraction in Risky Asset  0.896095\n",
       "Mean                     0.043298\n",
       "Volatlity                0.044173\n",
       "Sharpe Ratio             0.980193"
      ]
     },
     "execution_count": 24,
     "metadata": {},
     "output_type": "execute_result"
    }
   ],
   "source": [
    "# Out-of-Sample performance 2017-2019\n",
    "\n",
    "df_stats_out_of_sample = portfolio_stats(omega_in_sample,OOS_df.mean(),OOS_df.cov())\n",
    "df_stats_out_of_sample"
   ]
  },
  {
   "cell_type": "code",
   "execution_count": 25,
   "metadata": {},
   "outputs": [
    {
     "data": {
      "text/plain": [
       "Domestic Equity      0.136006\n",
       "Foreign Equity       0.089338\n",
       "Emerging Markets     0.054158\n",
       "Private Equity       0.072229\n",
       "Absolute Return      0.188534\n",
       "High Yield           0.344375\n",
       "Commodities         -0.005606\n",
       "Real Estate          0.127464\n",
       "Domestic Bonds       0.272808\n",
       "Foreign Bonds        0.192482\n",
       "Inflation-Indexed    0.342984\n",
       "dtype: float64"
      ]
     },
     "execution_count": 25,
     "metadata": {},
     "output_type": "execute_result"
    }
   ],
   "source": [
    "# in-sample MV portfolio using data 2017-2019\n",
    "\n",
    "in_sample_df_17_19 = df_ex_ret.loc['2017-01':]\n",
    "omega_in_sample_17_19 = target_mv_portfolio(in_sample_df_17_19,0.0067,True)\n",
    "omega_in_sample_17_19"
   ]
  },
  {
   "cell_type": "code",
   "execution_count": 26,
   "metadata": {},
   "outputs": [
    {
     "data": {
      "text/html": [
       "<div>\n",
       "<style scoped>\n",
       "    .dataframe tbody tr th:only-of-type {\n",
       "        vertical-align: middle;\n",
       "    }\n",
       "\n",
       "    .dataframe tbody tr th {\n",
       "        vertical-align: top;\n",
       "    }\n",
       "\n",
       "    .dataframe thead th {\n",
       "        text-align: right;\n",
       "    }\n",
       "</style>\n",
       "<table border=\"1\" class=\"dataframe\">\n",
       "  <thead>\n",
       "    <tr style=\"text-align: right;\">\n",
       "      <th></th>\n",
       "      <th>Stat</th>\n",
       "    </tr>\n",
       "  </thead>\n",
       "  <tbody>\n",
       "    <tr>\n",
       "      <td>Fraction in Risky Asset</td>\n",
       "      <td>1.814772</td>\n",
       "    </tr>\n",
       "    <tr>\n",
       "      <td>Mean</td>\n",
       "      <td>0.080400</td>\n",
       "    </tr>\n",
       "    <tr>\n",
       "      <td>Volatlity</td>\n",
       "      <td>0.079209</td>\n",
       "    </tr>\n",
       "    <tr>\n",
       "      <td>Sharpe Ratio</td>\n",
       "      <td>1.015037</td>\n",
       "    </tr>\n",
       "  </tbody>\n",
       "</table>\n",
       "</div>"
      ],
      "text/plain": [
       "                             Stat\n",
       "Fraction in Risky Asset  1.814772\n",
       "Mean                     0.080400\n",
       "Volatlity                0.079209\n",
       "Sharpe Ratio             1.015037"
      ]
     },
     "execution_count": 26,
     "metadata": {},
     "output_type": "execute_result"
    }
   ],
   "source": [
    "df_stats_in_sample_17_19 = portfolio_stats(omega_in_sample_17_19,in_sample_df_17_19.mean(),in_sample_df_17_19.cov())\n",
    "df_stats_in_sample_17_19"
   ]
  },
  {
   "cell_type": "code",
   "execution_count": 27,
   "metadata": {},
   "outputs": [
    {
     "data": {
      "text/html": [
       "<div>\n",
       "<style scoped>\n",
       "    .dataframe tbody tr th:only-of-type {\n",
       "        vertical-align: middle;\n",
       "    }\n",
       "\n",
       "    .dataframe tbody tr th {\n",
       "        vertical-align: top;\n",
       "    }\n",
       "\n",
       "    .dataframe thead th {\n",
       "        text-align: right;\n",
       "    }\n",
       "</style>\n",
       "<table border=\"1\" class=\"dataframe\">\n",
       "  <thead>\n",
       "    <tr style=\"text-align: right;\">\n",
       "      <th></th>\n",
       "      <th>Mean</th>\n",
       "      <th>Volatlity</th>\n",
       "      <th>Sharpe Ratio</th>\n",
       "    </tr>\n",
       "  </thead>\n",
       "  <tbody>\n",
       "    <tr>\n",
       "      <td>In-Sample: 2000-2016</td>\n",
       "      <td>0.080400</td>\n",
       "      <td>0.064872</td>\n",
       "      <td>1.239368</td>\n",
       "    </tr>\n",
       "    <tr>\n",
       "      <td>Out-of-Sample</td>\n",
       "      <td>0.043298</td>\n",
       "      <td>0.044173</td>\n",
       "      <td>0.980193</td>\n",
       "    </tr>\n",
       "    <tr>\n",
       "      <td>In-Sample: 2017-2019</td>\n",
       "      <td>0.080400</td>\n",
       "      <td>0.079209</td>\n",
       "      <td>1.015037</td>\n",
       "    </tr>\n",
       "  </tbody>\n",
       "</table>\n",
       "</div>"
      ],
      "text/plain": [
       "                          Mean  Volatlity  Sharpe Ratio\n",
       "In-Sample: 2000-2016  0.080400   0.064872      1.239368\n",
       "Out-of-Sample         0.043298   0.044173      0.980193\n",
       "In-Sample: 2017-2019  0.080400   0.079209      1.015037"
      ]
     },
     "execution_count": 27,
     "metadata": {},
     "output_type": "execute_result"
    }
   ],
   "source": [
    "# summary of in-sample and out-of-sample performance using diagonal matrix\n",
    "\n",
    "(pd.DataFrame([\n",
    "    df_stats_in_sample['Stat'],\n",
    "    df_stats_out_of_sample['Stat'],\n",
    "    df_stats_in_sample_17_19['Stat']\n",
    "    ], index=['In-Sample: 2000-2016', 'Out-of-Sample', 'In-Sample: 2017-2019'])\n",
    "    ).drop(columns=['Fraction in Risky Asset'])"
   ]
  },
  {
   "cell_type": "code",
   "execution_count": null,
   "metadata": {},
   "outputs": [],
   "source": []
  }
 ],
 "metadata": {
  "kernelspec": {
   "display_name": "Python 3",
   "language": "python",
   "name": "python3"
  },
  "language_info": {
   "codemirror_mode": {
    "name": "ipython",
    "version": 3
   },
   "file_extension": ".py",
   "mimetype": "text/x-python",
   "name": "python",
   "nbconvert_exporter": "python",
   "pygments_lexer": "ipython3",
   "version": "3.7.3"
  }
 },
 "nbformat": 4,
 "nbformat_minor": 2
}
