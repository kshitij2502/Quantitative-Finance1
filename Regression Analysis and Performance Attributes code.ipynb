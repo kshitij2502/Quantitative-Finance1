{
 "cells": [
  {
   "cell_type": "markdown",
   "metadata": {},
   "source": [
    "# FINM 36700 HW2 solutions"
   ]
  },
  {
   "cell_type": "markdown",
   "metadata": {},
   "source": [
    "## 1. Conceptual issues for LTCM"
   ]
  },
  {
   "cell_type": "markdown",
   "metadata": {},
   "source": [
    "### 1.1 Describe LTCM’s investment strategy in less than 100 words.\n",
    "Many reasonable things to put here. Should identify their reliance on relative value and convergence trades. Should also mention their opportunistic trading as they spot dislocations due to institutional demands. (For example, liquidity needs.)"
   ]
  },
  {
   "cell_type": "markdown",
   "metadata": {},
   "source": [
    "### 1.2 What are LTCM’s biggest advantages over its competitors?\n",
    "Several advantages.\n",
    "- Eﬃcient ﬁnancing. LTCM got very favorable terms on all ﬁnancing—sometimes even zero haircut! Typically had small, if any, outlay.\n",
    "- Fund size. Have market power even in the large market of institutional wholesale.\n",
    "- Liquidity. LTCM has in place many mechanisms to ensure liquidity.\n",
    "- Long-term horizon. In ﬁnancing and assessing trades, LTCM takes a relatively long-term view.\n",
    "- Hedged. LTCM avoids taking too much default risk or explicit directional bets.\n",
    "\n",
    "Then again, LTCM went bust in Aug. 1998, so maybe these advantages were not as strong as it seemed!"
   ]
  },
  {
   "cell_type": "markdown",
   "metadata": {},
   "source": [
    "### 1.3 The case discusses speciﬁc ways in which LTCM manages each of these risks. Brieﬂy discuss them.\n",
    "The case discusses steps LTCM took to manage four types of funding risks.\n",
    "• Collateral haircuts. For most trades, LTCM obtains 100% ﬁnancing on a fully collateralized basis. Furthermore, LTCM stress tests the haircuts across its asset classes.\n",
    "• Repo. LTCM goes against the norm by entering into relatively long-maturity repo. While much of it is overnight, LTCM uses contracts that typically have maturity of 6-12 months. Furthermore, LTCM manages their aggregate repo maturity.\n",
    "• Equity redemption. The ﬁrm is highly levered, so equity funding risk is especially important. LTCM restricts redemptions of equity year by year. The restriction is particularly strong in that unredeemed money is re-locked. They also spread the redemption windows across the year to ensure there is never a possibility of immediate withdrawal of a large portion of equity.\n",
    "• For debt funding, LTCM negotiated a revolving loan that has no Material Adverse Change clause. Thus, the availability of debt funding is not so highly correlated with fund performance."
   ]
  },
  {
   "cell_type": "markdown",
   "metadata": {},
   "source": [
    "### 1.4 LTCM is largely in the business of selling liquidity and volatility. Describe how LTCM accounts for liquidity risk in their quantitative measurements.\n",
    "LTCM attempts to account for liquidity risk quantitatively by adjusting security correlations. For short-term horizons, LTCM assumes positive correlation between all trade categories. Even if their net exposure to a strategy ﬂips sides, they still assume positive correlation to the new net position. Given the eﬀorts of LTCM to hedge out obvious market risks, there are many strategies which would seem to have zero correlation. However, LTCM feels that liquidity concerns can cause the eﬀective trading to be positively correlated."
   ]
  },
  {
   "cell_type": "markdown",
   "metadata": {},
   "source": [
    "### 1.5 Is leverage risk currently a concern for LTCM?\n",
    "It would seem that leverage is not particularly dangerous at the moment. The fund’s volatility is relatively low, its VaR is relatively low, nor is it particularly high relative to the rest of the industry. Moreover, the ﬁrm actively manages its funding risk which theoretically means it should be able to handle the natural risks of high leverage. At the time of the case, the ﬁrm is trying to determine whether to further increase leverage. Subsequently, at the end of 1997 the fund returned about a third of its 7.5 billion equity capital to investors. Of course, less than a year later, the fund blew up, but from the time of the case it’s hard to see the leverage risk.\n"
   ]
  },
  {
   "cell_type": "markdown",
   "metadata": {},
   "source": [
    "## 2 LTCM Risk"
   ]
  },
  {
   "cell_type": "code",
   "execution_count": 7,
   "metadata": {},
   "outputs": [],
   "source": [
    "import pandas as pd\n",
    "import numpy as np\n",
    "import statsmodels.api as sm\n",
    "import statsmodels.formula.api as smf\n",
    "# if not installed, use pip install statsmodels or conda install statsmodels (if you download jupyter from anaconda distribution) "
   ]
  },
  {
   "cell_type": "code",
   "execution_count": 2,
   "metadata": {},
   "outputs": [
    {
     "data": {
      "text/plain": [
       "[Timestamp('1994-04-30 00:00:00'), Timestamp('1998-06-30 00:00:00')]"
      ]
     },
     "metadata": {},
     "output_type": "display_data"
    },
    {
     "data": {
      "text/plain": [
       "[Timestamp('1994-04-30 00:00:00'), Timestamp('2012-12-31 00:00:00')]"
      ]
     },
     "metadata": {},
     "output_type": "display_data"
    },
    {
     "data": {
      "text/plain": [
       "[Timestamp('1994-04-30 00:00:00'), Timestamp('2012-12-31 00:00:00')]"
      ]
     },
     "metadata": {},
     "output_type": "display_data"
    }
   ],
   "source": [
    "# read three tabs together\n",
    "df0 = pd.read_excel('hedge_data.xls', sheet_name = 0, index_col=0)\n",
    "df1 = pd.read_excel('hedge_data.xls', sheet_name = 1, index_col=0)\n",
    "df2 = pd.read_excel('hedge_data.xls', sheet_name = 2, index_col=0)\n",
    "display([df0.index[0],df0.index[-1]])\n",
    "display([df1.index[0],df1.index[-1]])\n",
    "display([df2.index[0],df2.index[-1]])"
   ]
  },
  {
   "cell_type": "markdown",
   "metadata": {},
   "source": [
    "### 2.1 Summary stats"
   ]
  },
  {
   "cell_type": "code",
   "execution_count": 14,
   "metadata": {},
   "outputs": [
    {
     "data": {
      "text/html": [
       "<div>\n",
       "<style scoped>\n",
       "    .dataframe tbody tr th:only-of-type {\n",
       "        vertical-align: middle;\n",
       "    }\n",
       "\n",
       "    .dataframe tbody tr th {\n",
       "        vertical-align: top;\n",
       "    }\n",
       "\n",
       "    .dataframe thead th {\n",
       "        text-align: right;\n",
       "    }\n",
       "</style>\n",
       "<table border=\"1\" class=\"dataframe\">\n",
       "  <thead>\n",
       "    <tr style=\"text-align: right;\">\n",
       "      <th></th>\n",
       "      <th>mean</th>\n",
       "      <th>vol</th>\n",
       "      <th>SR</th>\n",
       "    </tr>\n",
       "  </thead>\n",
       "  <tbody>\n",
       "    <tr>\n",
       "      <th>gross</th>\n",
       "      <td>0.257153</td>\n",
       "      <td>0.137987</td>\n",
       "      <td>1.863603</td>\n",
       "    </tr>\n",
       "    <tr>\n",
       "      <th>net</th>\n",
       "      <td>0.168918</td>\n",
       "      <td>0.113187</td>\n",
       "      <td>1.492373</td>\n",
       "    </tr>\n",
       "  </tbody>\n",
       "</table>\n",
       "</div>"
      ],
      "text/plain": [
       "           mean       vol        SR\n",
       "gross  0.257153  0.137987  1.863603\n",
       "net    0.168918  0.113187  1.492373"
      ]
     },
     "execution_count": 14,
     "metadata": {},
     "output_type": "execute_result"
    }
   ],
   "source": [
    "mu = df0[['gross','net']].mean() * 12\n",
    "vol = df0[['gross','net']].std() * np.sqrt(12)\n",
    "SR = mu/vol\n",
    "pd.DataFrame({'mean':mu, 'vol':vol, 'SR':SR})"
   ]
  },
  {
   "cell_type": "markdown",
   "metadata": {},
   "source": [
    "### 2.2/2.3 Regression of net returns and market returns, and regression metrics"
   ]
  },
  {
   "cell_type": "code",
   "execution_count": 18,
   "metadata": {},
   "outputs": [
    {
     "data": {
      "text/html": [
       "<div>\n",
       "<style scoped>\n",
       "    .dataframe tbody tr th:only-of-type {\n",
       "        vertical-align: middle;\n",
       "    }\n",
       "\n",
       "    .dataframe tbody tr th {\n",
       "        vertical-align: top;\n",
       "    }\n",
       "\n",
       "    .dataframe thead th {\n",
       "        text-align: right;\n",
       "    }\n",
       "</style>\n",
       "<table border=\"1\" class=\"dataframe\">\n",
       "  <thead>\n",
       "    <tr style=\"text-align: right;\">\n",
       "      <th></th>\n",
       "      <th>net</th>\n",
       "    </tr>\n",
       "  </thead>\n",
       "  <tbody>\n",
       "    <tr>\n",
       "      <th>alpha</th>\n",
       "      <td>0.013431</td>\n",
       "    </tr>\n",
       "    <tr>\n",
       "      <th>beta</th>\n",
       "      <td>0.042028</td>\n",
       "    </tr>\n",
       "    <tr>\n",
       "      <th>rsquared</th>\n",
       "      <td>0.001651</td>\n",
       "    </tr>\n",
       "    <tr>\n",
       "      <th>TR</th>\n",
       "      <td>0.334931</td>\n",
       "    </tr>\n",
       "    <tr>\n",
       "      <th>IR</th>\n",
       "      <td>0.411390</td>\n",
       "    </tr>\n",
       "  </tbody>\n",
       "</table>\n",
       "</div>"
      ],
      "text/plain": [
       "               net\n",
       "alpha     0.013431\n",
       "beta      0.042028\n",
       "rsquared  0.001651\n",
       "TR        0.334931\n",
       "IR        0.411390"
      ]
     },
     "execution_count": 18,
     "metadata": {},
     "output_type": "execute_result"
    }
   ],
   "source": [
    "y = df0['net']\n",
    "X = sm.add_constant(df2['Market Equity Index'].loc[df0.index])  # include intercept in regression, trim the data to the shorter one\n",
    "res = sm.OLS(y,X).fit()  # drop all the missing data\n",
    "alpha, beta = res.params\n",
    "rsquared = res.rsquared\n",
    "TR = df0['net'].mean()/beta\n",
    "IR = alpha/res.resid.std()\n",
    "stats = [alpha, beta, rsquared, TR, IR]\n",
    "pd.DataFrame(stats, columns = ['net'], index=['alpha', 'beta', 'rsquared', 'TR', 'IR'])"
   ]
  },
  {
   "cell_type": "markdown",
   "metadata": {},
   "source": [
    "From the $R^2$ we can tell that there's no much exposure to the market return."
   ]
  },
  {
   "cell_type": "markdown",
   "metadata": {},
   "source": [
    "### 2.4 Tail risk"
   ]
  },
  {
   "cell_type": "code",
   "execution_count": 27,
   "metadata": {},
   "outputs": [
    {
     "data": {
      "text/plain": [
       "(-0.0266, -0.018099999999999998)"
      ]
     },
     "execution_count": 27,
     "metadata": {},
     "output_type": "execute_result"
    }
   ],
   "source": [
    "df0['net'].quantile(0.05), df0['net'].nsmallest(5)[-1]  # the 5th quantile and the 5th smallest, just FYI."
   ]
  },
  {
   "cell_type": "code",
   "execution_count": 28,
   "metadata": {},
   "outputs": [
    {
     "data": {
      "text/plain": [
       "-0.056575"
      ]
     },
     "execution_count": 28,
     "metadata": {},
     "output_type": "execute_result"
    }
   ],
   "source": [
    "(df0['net'].nsmallest(4)).mean()  # mean of 4 worst return"
   ]
  },
  {
   "cell_type": "code",
   "execution_count": 29,
   "metadata": {},
   "outputs": [
    {
     "data": {
      "text/plain": [
       "-0.8573139307755562"
      ]
     },
     "execution_count": 29,
     "metadata": {},
     "output_type": "execute_result"
    }
   ],
   "source": [
    "df0['net'].skew()"
   ]
  },
  {
   "cell_type": "code",
   "execution_count": 30,
   "metadata": {},
   "outputs": [
    {
     "data": {
      "text/plain": [
       "2.9878671881397474"
      ]
     },
     "execution_count": 30,
     "metadata": {},
     "output_type": "execute_result"
    }
   ],
   "source": [
    "df0['net'].kurtosis()"
   ]
  },
  {
   "cell_type": "markdown",
   "metadata": {},
   "source": [
    "## 3. Other Hedge Fund Indexes"
   ]
  },
  {
   "cell_type": "code",
   "execution_count": 44,
   "metadata": {},
   "outputs": [
    {
     "data": {
      "text/html": [
       "<div>\n",
       "<style scoped>\n",
       "    .dataframe tbody tr th:only-of-type {\n",
       "        vertical-align: middle;\n",
       "    }\n",
       "\n",
       "    .dataframe tbody tr th {\n",
       "        vertical-align: top;\n",
       "    }\n",
       "\n",
       "    .dataframe thead th {\n",
       "        text-align: right;\n",
       "    }\n",
       "</style>\n",
       "<table border=\"1\" class=\"dataframe\">\n",
       "  <thead>\n",
       "    <tr style=\"text-align: right;\">\n",
       "      <th></th>\n",
       "      <th>mean</th>\n",
       "      <th>vol</th>\n",
       "      <th>skewness</th>\n",
       "      <th>kurtosis</th>\n",
       "      <th>5th percentile</th>\n",
       "    </tr>\n",
       "  </thead>\n",
       "  <tbody>\n",
       "    <tr>\n",
       "      <th>Total Index</th>\n",
       "      <td>0.060352</td>\n",
       "      <td>0.073219</td>\n",
       "      <td>-0.257508</td>\n",
       "      <td>2.775748</td>\n",
       "      <td>-0.02662</td>\n",
       "    </tr>\n",
       "    <tr>\n",
       "      <th>Convertible Arbitrage</th>\n",
       "      <td>0.045781</td>\n",
       "      <td>0.068567</td>\n",
       "      <td>-2.658021</td>\n",
       "      <td>16.445037</td>\n",
       "      <td>-0.02196</td>\n",
       "    </tr>\n",
       "    <tr>\n",
       "      <th>Dedicated Short Bias</th>\n",
       "      <td>-0.065563</td>\n",
       "      <td>0.168179</td>\n",
       "      <td>0.690978</td>\n",
       "      <td>1.465212</td>\n",
       "      <td>-0.07568</td>\n",
       "    </tr>\n",
       "    <tr>\n",
       "      <th>Emerging Markets</th>\n",
       "      <td>0.051445</td>\n",
       "      <td>0.145699</td>\n",
       "      <td>-0.886015</td>\n",
       "      <td>5.612071</td>\n",
       "      <td>-0.07074</td>\n",
       "    </tr>\n",
       "    <tr>\n",
       "      <th>Equity Market Neutral</th>\n",
       "      <td>0.024741</td>\n",
       "      <td>0.101881</td>\n",
       "      <td>-12.075638</td>\n",
       "      <td>167.544417</td>\n",
       "      <td>-0.01298</td>\n",
       "    </tr>\n",
       "    <tr>\n",
       "      <th>Event Driven</th>\n",
       "      <td>0.060629</td>\n",
       "      <td>0.062192</td>\n",
       "      <td>-2.313280</td>\n",
       "      <td>11.683685</td>\n",
       "      <td>-0.02644</td>\n",
       "    </tr>\n",
       "    <tr>\n",
       "      <th>Event Driven Distressed</th>\n",
       "      <td>0.070747</td>\n",
       "      <td>0.064908</td>\n",
       "      <td>-2.289098</td>\n",
       "      <td>12.053496</td>\n",
       "      <td>-0.02422</td>\n",
       "    </tr>\n",
       "    <tr>\n",
       "      <th>Event Driven Multi-Strategy</th>\n",
       "      <td>0.055888</td>\n",
       "      <td>0.067533</td>\n",
       "      <td>-1.789141</td>\n",
       "      <td>8.072271</td>\n",
       "      <td>-0.02698</td>\n",
       "    </tr>\n",
       "    <tr>\n",
       "      <th>Event Driven Risk Arbitrage</th>\n",
       "      <td>0.033653</td>\n",
       "      <td>0.040749</td>\n",
       "      <td>-1.109561</td>\n",
       "      <td>5.256679</td>\n",
       "      <td>-0.01528</td>\n",
       "    </tr>\n",
       "    <tr>\n",
       "      <th>Fixed Income Arbitrage</th>\n",
       "      <td>0.027131</td>\n",
       "      <td>0.056769</td>\n",
       "      <td>-4.448850</td>\n",
       "      <td>31.550355</td>\n",
       "      <td>-0.01366</td>\n",
       "    </tr>\n",
       "    <tr>\n",
       "      <th>Global Macro</th>\n",
       "      <td>0.092219</td>\n",
       "      <td>0.093806</td>\n",
       "      <td>-0.072503</td>\n",
       "      <td>4.460526</td>\n",
       "      <td>-0.02848</td>\n",
       "    </tr>\n",
       "    <tr>\n",
       "      <th>Long/Short Equity</th>\n",
       "      <td>0.066123</td>\n",
       "      <td>0.097657</td>\n",
       "      <td>-0.077956</td>\n",
       "      <td>3.428498</td>\n",
       "      <td>-0.04066</td>\n",
       "    </tr>\n",
       "    <tr>\n",
       "      <th>Managed Futures</th>\n",
       "      <td>0.028768</td>\n",
       "      <td>0.117177</td>\n",
       "      <td>0.037206</td>\n",
       "      <td>-0.033438</td>\n",
       "      <td>-0.05068</td>\n",
       "    </tr>\n",
       "    <tr>\n",
       "      <th>Multi-Strategy</th>\n",
       "      <td>0.048448</td>\n",
       "      <td>0.053369</td>\n",
       "      <td>-1.662421</td>\n",
       "      <td>5.868361</td>\n",
       "      <td>-0.02266</td>\n",
       "    </tr>\n",
       "  </tbody>\n",
       "</table>\n",
       "</div>"
      ],
      "text/plain": [
       "                                 mean       vol   skewness    kurtosis  \\\n",
       "Total Index                  0.060352  0.073219  -0.257508    2.775748   \n",
       "Convertible Arbitrage        0.045781  0.068567  -2.658021   16.445037   \n",
       "Dedicated Short Bias        -0.065563  0.168179   0.690978    1.465212   \n",
       "Emerging Markets             0.051445  0.145699  -0.886015    5.612071   \n",
       "Equity Market Neutral        0.024741  0.101881 -12.075638  167.544417   \n",
       "Event Driven                 0.060629  0.062192  -2.313280   11.683685   \n",
       "Event Driven Distressed      0.070747  0.064908  -2.289098   12.053496   \n",
       "Event Driven Multi-Strategy  0.055888  0.067533  -1.789141    8.072271   \n",
       "Event Driven Risk Arbitrage  0.033653  0.040749  -1.109561    5.256679   \n",
       "Fixed Income Arbitrage       0.027131  0.056769  -4.448850   31.550355   \n",
       "Global Macro                 0.092219  0.093806  -0.072503    4.460526   \n",
       "Long/Short Equity            0.066123  0.097657  -0.077956    3.428498   \n",
       "Managed Futures              0.028768  0.117177   0.037206   -0.033438   \n",
       "Multi-Strategy               0.048448  0.053369  -1.662421    5.868361   \n",
       "\n",
       "                             5th percentile  \n",
       "Total Index                        -0.02662  \n",
       "Convertible Arbitrage              -0.02196  \n",
       "Dedicated Short Bias               -0.07568  \n",
       "Emerging Markets                   -0.07074  \n",
       "Equity Market Neutral              -0.01298  \n",
       "Event Driven                       -0.02644  \n",
       "Event Driven Distressed            -0.02422  \n",
       "Event Driven Multi-Strategy        -0.02698  \n",
       "Event Driven Risk Arbitrage        -0.01528  \n",
       "Fixed Income Arbitrage             -0.01366  \n",
       "Global Macro                       -0.02848  \n",
       "Long/Short Equity                  -0.04066  \n",
       "Managed Futures                    -0.05068  \n",
       "Multi-Strategy                     -0.02266  "
      ]
     },
     "execution_count": 44,
     "metadata": {},
     "output_type": "execute_result"
    }
   ],
   "source": [
    "summary_stats = pd.DataFrame()\n",
    "summary_stats['mean'] = df1.mean()*12\n",
    "summary_stats['vol'] = df1.std()*12**0.5\n",
    "summary_stats['skewness'] = df1.skew()\n",
    "summary_stats['kurtosis'] = df1.kurtosis()\n",
    "summary_stats['5th percentile'] = df1.quantile(0.05)\n",
    "summary_stats"
   ]
  },
  {
   "cell_type": "code",
   "execution_count": 47,
   "metadata": {},
   "outputs": [
    {
     "data": {
      "text/html": [
       "<div>\n",
       "<style scoped>\n",
       "    .dataframe tbody tr th:only-of-type {\n",
       "        vertical-align: middle;\n",
       "    }\n",
       "\n",
       "    .dataframe tbody tr th {\n",
       "        vertical-align: top;\n",
       "    }\n",
       "\n",
       "    .dataframe thead th {\n",
       "        text-align: right;\n",
       "    }\n",
       "</style>\n",
       "<table border=\"1\" class=\"dataframe\">\n",
       "  <thead>\n",
       "    <tr style=\"text-align: right;\">\n",
       "      <th></th>\n",
       "      <th>alpha</th>\n",
       "      <th>beta</th>\n",
       "      <th>rsquared</th>\n",
       "      <th>TR</th>\n",
       "      <th>IR</th>\n",
       "    </tr>\n",
       "  </thead>\n",
       "  <tbody>\n",
       "    <tr>\n",
       "      <th>Total Index</th>\n",
       "      <td>0.003487</td>\n",
       "      <td>0.283865</td>\n",
       "      <td>0.380517</td>\n",
       "      <td>0.017717</td>\n",
       "      <td>0.209630</td>\n",
       "    </tr>\n",
       "    <tr>\n",
       "      <th>Convertible Arbitrage</th>\n",
       "      <td>0.002909</td>\n",
       "      <td>0.166726</td>\n",
       "      <td>0.149684</td>\n",
       "      <td>0.022883</td>\n",
       "      <td>0.159404</td>\n",
       "    </tr>\n",
       "    <tr>\n",
       "      <th>Dedicated Short Bias</th>\n",
       "      <td>-0.000757</td>\n",
       "      <td>-0.866493</td>\n",
       "      <td>0.672015</td>\n",
       "      <td>0.006305</td>\n",
       "      <td>-0.027218</td>\n",
       "    </tr>\n",
       "    <tr>\n",
       "      <th>Emerging Markets</th>\n",
       "      <td>0.001398</td>\n",
       "      <td>0.531952</td>\n",
       "      <td>0.337464</td>\n",
       "      <td>0.008059</td>\n",
       "      <td>0.040822</td>\n",
       "    </tr>\n",
       "    <tr>\n",
       "      <th>Equity Market Neutral</th>\n",
       "      <td>0.001033</td>\n",
       "      <td>0.189443</td>\n",
       "      <td>0.087532</td>\n",
       "      <td>0.010883</td>\n",
       "      <td>0.036760</td>\n",
       "    </tr>\n",
       "    <tr>\n",
       "      <th>Event Driven</th>\n",
       "      <td>0.003637</td>\n",
       "      <td>0.260557</td>\n",
       "      <td>0.444351</td>\n",
       "      <td>0.019391</td>\n",
       "      <td>0.271775</td>\n",
       "    </tr>\n",
       "    <tr>\n",
       "      <th>Event Driven Distressed</th>\n",
       "      <td>0.004474</td>\n",
       "      <td>0.261788</td>\n",
       "      <td>0.411812</td>\n",
       "      <td>0.022520</td>\n",
       "      <td>0.311304</td>\n",
       "    </tr>\n",
       "    <tr>\n",
       "      <th>Event Driven Multi-Strategy</th>\n",
       "      <td>0.003227</td>\n",
       "      <td>0.263297</td>\n",
       "      <td>0.384818</td>\n",
       "      <td>0.017689</td>\n",
       "      <td>0.211050</td>\n",
       "    </tr>\n",
       "    <tr>\n",
       "      <th>Event Driven Risk Arbitrage</th>\n",
       "      <td>0.002018</td>\n",
       "      <td>0.144703</td>\n",
       "      <td>0.319237</td>\n",
       "      <td>0.019381</td>\n",
       "      <td>0.207963</td>\n",
       "    </tr>\n",
       "    <tr>\n",
       "      <th>Fixed Income Arbitrage</th>\n",
       "      <td>0.001607</td>\n",
       "      <td>0.120289</td>\n",
       "      <td>0.113664</td>\n",
       "      <td>0.018796</td>\n",
       "      <td>0.104190</td>\n",
       "    </tr>\n",
       "    <tr>\n",
       "      <th>Global Macro</th>\n",
       "      <td>0.006921</td>\n",
       "      <td>0.140652</td>\n",
       "      <td>0.056915</td>\n",
       "      <td>0.054637</td>\n",
       "      <td>0.263175</td>\n",
       "    </tr>\n",
       "    <tr>\n",
       "      <th>Long/Short Equity</th>\n",
       "      <td>0.003033</td>\n",
       "      <td>0.456107</td>\n",
       "      <td>0.552227</td>\n",
       "      <td>0.012081</td>\n",
       "      <td>0.160760</td>\n",
       "    </tr>\n",
       "    <tr>\n",
       "      <th>Managed Futures</th>\n",
       "      <td>0.002814</td>\n",
       "      <td>-0.076733</td>\n",
       "      <td>0.010856</td>\n",
       "      <td>-0.031243</td>\n",
       "      <td>0.083650</td>\n",
       "    </tr>\n",
       "    <tr>\n",
       "      <th>Multi-Strategy</th>\n",
       "      <td>0.003296</td>\n",
       "      <td>0.136491</td>\n",
       "      <td>0.165587</td>\n",
       "      <td>0.029580</td>\n",
       "      <td>0.234201</td>\n",
       "    </tr>\n",
       "  </tbody>\n",
       "</table>\n",
       "</div>"
      ],
      "text/plain": [
       "                                alpha      beta  rsquared        TR        IR\n",
       "Total Index                  0.003487  0.283865  0.380517  0.017717  0.209630\n",
       "Convertible Arbitrage        0.002909  0.166726  0.149684  0.022883  0.159404\n",
       "Dedicated Short Bias        -0.000757 -0.866493  0.672015  0.006305 -0.027218\n",
       "Emerging Markets             0.001398  0.531952  0.337464  0.008059  0.040822\n",
       "Equity Market Neutral        0.001033  0.189443  0.087532  0.010883  0.036760\n",
       "Event Driven                 0.003637  0.260557  0.444351  0.019391  0.271775\n",
       "Event Driven Distressed      0.004474  0.261788  0.411812  0.022520  0.311304\n",
       "Event Driven Multi-Strategy  0.003227  0.263297  0.384818  0.017689  0.211050\n",
       "Event Driven Risk Arbitrage  0.002018  0.144703  0.319237  0.019381  0.207963\n",
       "Fixed Income Arbitrage       0.001607  0.120289  0.113664  0.018796  0.104190\n",
       "Global Macro                 0.006921  0.140652  0.056915  0.054637  0.263175\n",
       "Long/Short Equity            0.003033  0.456107  0.552227  0.012081  0.160760\n",
       "Managed Futures              0.002814 -0.076733  0.010856 -0.031243  0.083650\n",
       "Multi-Strategy               0.003296  0.136491  0.165587  0.029580  0.234201"
      ]
     },
     "execution_count": 47,
     "metadata": {},
     "output_type": "execute_result"
    }
   ],
   "source": [
    "regressand = df1.columns\n",
    "X = sm.add_constant(df2['Market Equity Index'])\n",
    "stats = []\n",
    "for col in regressand:\n",
    "    y = df1[col]\n",
    "    res = sm.OLS(y,X,missing='drop').fit()\n",
    "    alpha, beta = res.params\n",
    "    rsquared = res.rsquared\n",
    "    TR = y.mean()/beta\n",
    "    IR = alpha/res.resid.std()\n",
    "    stats.append((alpha,beta,rsquared,TR,IR))\n",
    "pd.DataFrame(stats, index = regressand, columns=['alpha', 'beta', 'rsquared', 'TR', 'IR'])"
   ]
  },
  {
   "cell_type": "code",
   "execution_count": null,
   "metadata": {},
   "outputs": [],
   "source": []
  }
 ],
 "metadata": {
  "kernelspec": {
   "display_name": "Python 3",
   "language": "python",
   "name": "python3"
  },
  "language_info": {
   "codemirror_mode": {
    "name": "ipython",
    "version": 3
   },
   "file_extension": ".py",
   "mimetype": "text/x-python",
   "name": "python",
   "nbconvert_exporter": "python",
   "pygments_lexer": "ipython3",
   "version": "3.7.3"
  }
 },
 "nbformat": 4,
 "nbformat_minor": 4
}
