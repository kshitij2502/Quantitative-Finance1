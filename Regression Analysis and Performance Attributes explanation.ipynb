{
 "cells": [
  {
   "cell_type": "markdown",
   "metadata": {},
   "source": [
    " # 2. LTCM Risk"
   ]
  },
  {
   "cell_type": "markdown",
   "metadata": {},
   "source": [
    "### 1. Summary Statistics"
   ]
  },
  {
   "cell_type": "code",
   "execution_count": 1,
   "metadata": {},
   "outputs": [],
   "source": [
    "#1. Summary Stats\n",
    "import pandas as pd\n",
    "import numpy as np\n",
    "import statsmodels.api as sm\n",
    "import statsmodels.formula.api as smf\n",
    "import math as m"
   ]
  },
  {
   "cell_type": "code",
   "execution_count": 2,
   "metadata": {},
   "outputs": [
    {
     "data": {
      "text/html": [
       "<div>\n",
       "<style scoped>\n",
       "    .dataframe tbody tr th:only-of-type {\n",
       "        vertical-align: middle;\n",
       "    }\n",
       "\n",
       "    .dataframe tbody tr th {\n",
       "        vertical-align: top;\n",
       "    }\n",
       "\n",
       "    .dataframe thead th {\n",
       "        text-align: right;\n",
       "    }\n",
       "</style>\n",
       "<table border=\"1\" class=\"dataframe\">\n",
       "  <thead>\n",
       "    <tr style=\"text-align: right;\">\n",
       "      <th></th>\n",
       "      <th>gross</th>\n",
       "      <th>net</th>\n",
       "      <th>Total Index</th>\n",
       "      <th>Convertible Arbitrage</th>\n",
       "      <th>Dedicated Short Bias</th>\n",
       "      <th>Emerging Markets</th>\n",
       "      <th>Equity Market Neutral</th>\n",
       "      <th>Event Driven</th>\n",
       "      <th>Event Driven Distressed</th>\n",
       "      <th>Event Driven Multi-Strategy</th>\n",
       "      <th>Event Driven Risk Arbitrage</th>\n",
       "      <th>Fixed Income Arbitrage</th>\n",
       "      <th>Global Macro</th>\n",
       "      <th>Long/Short Equity</th>\n",
       "      <th>Managed Futures</th>\n",
       "      <th>Multi-Strategy</th>\n",
       "      <th>Market Equity Index</th>\n",
       "    </tr>\n",
       "    <tr>\n",
       "      <th>date</th>\n",
       "      <th></th>\n",
       "      <th></th>\n",
       "      <th></th>\n",
       "      <th></th>\n",
       "      <th></th>\n",
       "      <th></th>\n",
       "      <th></th>\n",
       "      <th></th>\n",
       "      <th></th>\n",
       "      <th></th>\n",
       "      <th></th>\n",
       "      <th></th>\n",
       "      <th></th>\n",
       "      <th></th>\n",
       "      <th></th>\n",
       "      <th></th>\n",
       "      <th></th>\n",
       "    </tr>\n",
       "  </thead>\n",
       "  <tbody>\n",
       "    <tr>\n",
       "      <th>1994-04-30</th>\n",
       "      <td>0.0658</td>\n",
       "      <td>0.0508</td>\n",
       "      <td>-0.0196</td>\n",
       "      <td>-0.0274</td>\n",
       "      <td>0.0106</td>\n",
       "      <td>-0.0858</td>\n",
       "      <td>0.0003</td>\n",
       "      <td>-0.0088</td>\n",
       "      <td>-0.0093</td>\n",
       "      <td>-0.0079</td>\n",
       "      <td>-0.0118</td>\n",
       "      <td>-0.0042</td>\n",
       "      <td>-0.0181</td>\n",
       "      <td>-0.0178</td>\n",
       "      <td>0.0064</td>\n",
       "      <td>0.0236</td>\n",
       "      <td>0.0068</td>\n",
       "    </tr>\n",
       "    <tr>\n",
       "      <th>1994-05-31</th>\n",
       "      <td>-0.0415</td>\n",
       "      <td>-0.0315</td>\n",
       "      <td>0.0198</td>\n",
       "      <td>-0.0127</td>\n",
       "      <td>0.0200</td>\n",
       "      <td>-0.0098</td>\n",
       "      <td>-0.0036</td>\n",
       "      <td>-0.0040</td>\n",
       "      <td>-0.0109</td>\n",
       "      <td>0.0044</td>\n",
       "      <td>0.0000</td>\n",
       "      <td>0.0054</td>\n",
       "      <td>0.0355</td>\n",
       "      <td>0.0032</td>\n",
       "      <td>0.0051</td>\n",
       "      <td>-0.0372</td>\n",
       "      <td>0.0057</td>\n",
       "    </tr>\n",
       "    <tr>\n",
       "      <th>1994-06-30</th>\n",
       "      <td>0.1137</td>\n",
       "      <td>0.0817</td>\n",
       "      <td>-0.0104</td>\n",
       "      <td>-0.0002</td>\n",
       "      <td>0.0612</td>\n",
       "      <td>0.0024</td>\n",
       "      <td>0.0047</td>\n",
       "      <td>-0.0036</td>\n",
       "      <td>-0.0118</td>\n",
       "      <td>0.0060</td>\n",
       "      <td>-0.0005</td>\n",
       "      <td>-0.0063</td>\n",
       "      <td>-0.0115</td>\n",
       "      <td>-0.0254</td>\n",
       "      <td>0.0392</td>\n",
       "      <td>0.0338</td>\n",
       "      <td>-0.0303</td>\n",
       "    </tr>\n",
       "    <tr>\n",
       "      <th>1994-07-31</th>\n",
       "      <td>0.0355</td>\n",
       "      <td>0.0275</td>\n",
       "      <td>0.0010</td>\n",
       "      <td>-0.0011</td>\n",
       "      <td>-0.0143</td>\n",
       "      <td>0.0556</td>\n",
       "      <td>-0.0125</td>\n",
       "      <td>0.0029</td>\n",
       "      <td>0.0155</td>\n",
       "      <td>-0.0121</td>\n",
       "      <td>0.0032</td>\n",
       "      <td>-0.0043</td>\n",
       "      <td>-0.0060</td>\n",
       "      <td>0.0104</td>\n",
       "      <td>-0.0126</td>\n",
       "      <td>-0.0248</td>\n",
       "      <td>0.0281</td>\n",
       "    </tr>\n",
       "    <tr>\n",
       "      <th>1994-08-31</th>\n",
       "      <td>-0.0061</td>\n",
       "      <td>-0.0051</td>\n",
       "      <td>0.0256</td>\n",
       "      <td>-0.0025</td>\n",
       "      <td>-0.0587</td>\n",
       "      <td>0.1621</td>\n",
       "      <td>-0.0120</td>\n",
       "      <td>0.0061</td>\n",
       "      <td>0.0183</td>\n",
       "      <td>-0.0093</td>\n",
       "      <td>0.0148</td>\n",
       "      <td>-0.0030</td>\n",
       "      <td>0.0254</td>\n",
       "      <td>0.0143</td>\n",
       "      <td>-0.0048</td>\n",
       "      <td>-0.0345</td>\n",
       "      <td>0.0401</td>\n",
       "    </tr>\n",
       "  </tbody>\n",
       "</table>\n",
       "</div>"
      ],
      "text/plain": [
       "             gross     net  Total Index  Convertible Arbitrage  \\\n",
       "date                                                             \n",
       "1994-04-30  0.0658  0.0508      -0.0196                -0.0274   \n",
       "1994-05-31 -0.0415 -0.0315       0.0198                -0.0127   \n",
       "1994-06-30  0.1137  0.0817      -0.0104                -0.0002   \n",
       "1994-07-31  0.0355  0.0275       0.0010                -0.0011   \n",
       "1994-08-31 -0.0061 -0.0051       0.0256                -0.0025   \n",
       "\n",
       "            Dedicated Short Bias  Emerging Markets  Equity Market Neutral  \\\n",
       "date                                                                        \n",
       "1994-04-30                0.0106           -0.0858                 0.0003   \n",
       "1994-05-31                0.0200           -0.0098                -0.0036   \n",
       "1994-06-30                0.0612            0.0024                 0.0047   \n",
       "1994-07-31               -0.0143            0.0556                -0.0125   \n",
       "1994-08-31               -0.0587            0.1621                -0.0120   \n",
       "\n",
       "            Event Driven  Event Driven Distressed  \\\n",
       "date                                                \n",
       "1994-04-30       -0.0088                  -0.0093   \n",
       "1994-05-31       -0.0040                  -0.0109   \n",
       "1994-06-30       -0.0036                  -0.0118   \n",
       "1994-07-31        0.0029                   0.0155   \n",
       "1994-08-31        0.0061                   0.0183   \n",
       "\n",
       "            Event Driven Multi-Strategy  Event Driven Risk Arbitrage  \\\n",
       "date                                                                   \n",
       "1994-04-30                      -0.0079                      -0.0118   \n",
       "1994-05-31                       0.0044                       0.0000   \n",
       "1994-06-30                       0.0060                      -0.0005   \n",
       "1994-07-31                      -0.0121                       0.0032   \n",
       "1994-08-31                      -0.0093                       0.0148   \n",
       "\n",
       "            Fixed Income Arbitrage  Global Macro  Long/Short Equity  \\\n",
       "date                                                                  \n",
       "1994-04-30                 -0.0042       -0.0181            -0.0178   \n",
       "1994-05-31                  0.0054        0.0355             0.0032   \n",
       "1994-06-30                 -0.0063       -0.0115            -0.0254   \n",
       "1994-07-31                 -0.0043       -0.0060             0.0104   \n",
       "1994-08-31                 -0.0030        0.0254             0.0143   \n",
       "\n",
       "            Managed Futures  Multi-Strategy  Market Equity Index  \n",
       "date                                                              \n",
       "1994-04-30           0.0064          0.0236               0.0068  \n",
       "1994-05-31           0.0051         -0.0372               0.0057  \n",
       "1994-06-30           0.0392          0.0338              -0.0303  \n",
       "1994-07-31          -0.0126         -0.0248               0.0281  \n",
       "1994-08-31          -0.0048         -0.0345               0.0401  "
      ]
     },
     "execution_count": 2,
     "metadata": {},
     "output_type": "execute_result"
    }
   ],
   "source": [
    "df = pd.read_excel('hedge_data.xls', sheet_name = [0,1,2], index_col=0)\n",
    "df = pd.concat(df.values(), axis=1)\n",
    "df.head()"
   ]
  },
  {
   "cell_type": "code",
   "execution_count": 3,
   "metadata": {},
   "outputs": [
    {
     "data": {
      "text/html": [
       "<div>\n",
       "<style scoped>\n",
       "    .dataframe tbody tr th:only-of-type {\n",
       "        vertical-align: middle;\n",
       "    }\n",
       "\n",
       "    .dataframe tbody tr th {\n",
       "        vertical-align: top;\n",
       "    }\n",
       "\n",
       "    .dataframe thead th {\n",
       "        text-align: right;\n",
       "    }\n",
       "</style>\n",
       "<table border=\"1\" class=\"dataframe\">\n",
       "  <thead>\n",
       "    <tr style=\"text-align: right;\">\n",
       "      <th></th>\n",
       "      <th>gross</th>\n",
       "      <th>net</th>\n",
       "    </tr>\n",
       "    <tr>\n",
       "      <th>date</th>\n",
       "      <th></th>\n",
       "      <th></th>\n",
       "    </tr>\n",
       "  </thead>\n",
       "  <tbody>\n",
       "    <tr>\n",
       "      <th>1994-04-30</th>\n",
       "      <td>0.0658</td>\n",
       "      <td>0.0508</td>\n",
       "    </tr>\n",
       "    <tr>\n",
       "      <th>1994-05-31</th>\n",
       "      <td>-0.0415</td>\n",
       "      <td>-0.0315</td>\n",
       "    </tr>\n",
       "    <tr>\n",
       "      <th>1994-06-30</th>\n",
       "      <td>0.1137</td>\n",
       "      <td>0.0817</td>\n",
       "    </tr>\n",
       "    <tr>\n",
       "      <th>1994-07-31</th>\n",
       "      <td>0.0355</td>\n",
       "      <td>0.0275</td>\n",
       "    </tr>\n",
       "    <tr>\n",
       "      <th>1994-08-31</th>\n",
       "      <td>-0.0061</td>\n",
       "      <td>-0.0051</td>\n",
       "    </tr>\n",
       "  </tbody>\n",
       "</table>\n",
       "</div>"
      ],
      "text/plain": [
       "             gross     net\n",
       "date                      \n",
       "1994-04-30  0.0658  0.0508\n",
       "1994-05-31 -0.0415 -0.0315\n",
       "1994-06-30  0.1137  0.0817\n",
       "1994-07-31  0.0355  0.0275\n",
       "1994-08-31 -0.0061 -0.0051"
      ]
     },
     "execution_count": 3,
     "metadata": {},
     "output_type": "execute_result"
    }
   ],
   "source": [
    "df_1=df[[\"gross\",\"net\"]]\n",
    "df_1.head()"
   ]
  },
  {
   "cell_type": "code",
   "execution_count": 4,
   "metadata": {},
   "outputs": [],
   "source": [
    "mean=df_1.mean()*12\n",
    "vol=df_1.std()*m.sqrt(12)"
   ]
  },
  {
   "cell_type": "markdown",
   "metadata": {},
   "source": [
    "### Q1(a,b)"
   ]
  },
  {
   "cell_type": "code",
   "execution_count": 5,
   "metadata": {},
   "outputs": [
    {
     "data": {
      "text/html": [
       "<div>\n",
       "<style scoped>\n",
       "    .dataframe tbody tr th:only-of-type {\n",
       "        vertical-align: middle;\n",
       "    }\n",
       "\n",
       "    .dataframe tbody tr th {\n",
       "        vertical-align: top;\n",
       "    }\n",
       "\n",
       "    .dataframe thead th {\n",
       "        text-align: right;\n",
       "    }\n",
       "</style>\n",
       "<table border=\"1\" class=\"dataframe\">\n",
       "  <thead>\n",
       "    <tr style=\"text-align: right;\">\n",
       "      <th></th>\n",
       "      <th>Annualized Mean</th>\n",
       "      <th>Annualized Volatility</th>\n",
       "      <th>Annualized Sharpe Ratio</th>\n",
       "    </tr>\n",
       "  </thead>\n",
       "  <tbody>\n",
       "    <tr>\n",
       "      <th>gross</th>\n",
       "      <td>0.257153</td>\n",
       "      <td>0.137987</td>\n",
       "      <td>1.863603</td>\n",
       "    </tr>\n",
       "    <tr>\n",
       "      <th>net</th>\n",
       "      <td>0.168918</td>\n",
       "      <td>0.113187</td>\n",
       "      <td>1.492373</td>\n",
       "    </tr>\n",
       "  </tbody>\n",
       "</table>\n",
       "</div>"
      ],
      "text/plain": [
       "       Annualized Mean  Annualized Volatility  Annualized Sharpe Ratio\n",
       "gross         0.257153               0.137987                 1.863603\n",
       "net           0.168918               0.113187                 1.492373"
      ]
     },
     "execution_count": 5,
     "metadata": {},
     "output_type": "execute_result"
    }
   ],
   "source": [
    "sharpe=mean/vol\n",
    "df_ss=pd.DataFrame(data={\"Annualized Mean\":mean,\"Annualized Volatility\":vol,\"Annualized Sharpe Ratio\":sharpe})\n",
    "df_ss"
   ]
  },
  {
   "cell_type": "markdown",
   "metadata": {},
   "source": [
    "#### Q1(c) The gross returns annualized mean is extremely high compared to the assets we’ve looked at in the past in HW-1.The net returns annualized mean is higher than all assets(except for real estate) we looked at in homework 1. The best comparison to gross and net returns would be the domestic equity asset class we saw in Homework 1, although with the net series we see higher annualized returns and lower volatility. The Sharpe Ratio for gross and net return series is the highest out of any asset we have seen till date."
   ]
  },
  {
   "cell_type": "markdown",
   "metadata": {},
   "source": [
    "# 2. Regression of Net LTCM Return versus Equity Market Index"
   ]
  },
  {
   "cell_type": "code",
   "execution_count": 6,
   "metadata": {},
   "outputs": [
    {
     "name": "stderr",
     "output_type": "stream",
     "text": [
      "C:\\Users\\kshit\\Anaconda3\\lib\\site-packages\\numpy\\core\\fromnumeric.py:2542: FutureWarning: Method .ptp is deprecated and will be removed in a future version. Use numpy.ptp instead.\n",
      "  return ptp(axis=axis, out=out, **kwargs)\n"
     ]
    },
    {
     "data": {
      "text/html": [
       "<table class=\"simpletable\">\n",
       "<caption>OLS Regression Results</caption>\n",
       "<tr>\n",
       "  <th>Dep. Variable:</th>           <td>net</td>       <th>  R-squared:         </th> <td>   0.002</td>\n",
       "</tr>\n",
       "<tr>\n",
       "  <th>Model:</th>                   <td>OLS</td>       <th>  Adj. R-squared:    </th> <td>  -0.019</td>\n",
       "</tr>\n",
       "<tr>\n",
       "  <th>Method:</th>             <td>Least Squares</td>  <th>  F-statistic:       </th> <td> 0.08105</td>\n",
       "</tr>\n",
       "<tr>\n",
       "  <th>Date:</th>             <td>Wed, 01 Jul 2020</td> <th>  Prob (F-statistic):</th>  <td> 0.777</td> \n",
       "</tr>\n",
       "<tr>\n",
       "  <th>Time:</th>                 <td>11:45:07</td>     <th>  Log-Likelihood:    </th> <td>  102.66</td>\n",
       "</tr>\n",
       "<tr>\n",
       "  <th>No. Observations:</th>      <td>    51</td>      <th>  AIC:               </th> <td>  -201.3</td>\n",
       "</tr>\n",
       "<tr>\n",
       "  <th>Df Residuals:</th>          <td>    49</td>      <th>  BIC:               </th> <td>  -197.5</td>\n",
       "</tr>\n",
       "<tr>\n",
       "  <th>Df Model:</th>              <td>     1</td>      <th>                     </th>     <td> </td>   \n",
       "</tr>\n",
       "<tr>\n",
       "  <th>Covariance Type:</th>      <td>nonrobust</td>    <th>                     </th>     <td> </td>   \n",
       "</tr>\n",
       "</table>\n",
       "<table class=\"simpletable\">\n",
       "<tr>\n",
       "           <td></td>              <th>coef</th>     <th>std err</th>      <th>t</th>      <th>P>|t|</th>  <th>[0.025</th>    <th>0.975]</th>  \n",
       "</tr>\n",
       "<tr>\n",
       "  <th>const</th>               <td>    0.0134</td> <td>    0.005</td> <td>    2.611</td> <td> 0.012</td> <td>    0.003</td> <td>    0.024</td>\n",
       "</tr>\n",
       "<tr>\n",
       "  <th>Market Equity Index</th> <td>    0.0420</td> <td>    0.148</td> <td>    0.285</td> <td> 0.777</td> <td>   -0.255</td> <td>    0.339</td>\n",
       "</tr>\n",
       "</table>\n",
       "<table class=\"simpletable\">\n",
       "<tr>\n",
       "  <th>Omnibus:</th>       <td>12.273</td> <th>  Durbin-Watson:     </th> <td>   1.806</td>\n",
       "</tr>\n",
       "<tr>\n",
       "  <th>Prob(Omnibus):</th> <td> 0.002</td> <th>  Jarque-Bera (JB):  </th> <td>  17.441</td>\n",
       "</tr>\n",
       "<tr>\n",
       "  <th>Skew:</th>          <td>-0.765</td> <th>  Prob(JB):          </th> <td>0.000163</td>\n",
       "</tr>\n",
       "<tr>\n",
       "  <th>Kurtosis:</th>      <td> 5.422</td> <th>  Cond. No.          </th> <td>    32.0</td>\n",
       "</tr>\n",
       "</table><br/><br/>Warnings:<br/>[1] Standard Errors assume that the covariance matrix of the errors is correctly specified."
      ],
      "text/plain": [
       "<class 'statsmodels.iolib.summary.Summary'>\n",
       "\"\"\"\n",
       "                            OLS Regression Results                            \n",
       "==============================================================================\n",
       "Dep. Variable:                    net   R-squared:                       0.002\n",
       "Model:                            OLS   Adj. R-squared:                 -0.019\n",
       "Method:                 Least Squares   F-statistic:                   0.08105\n",
       "Date:                Wed, 01 Jul 2020   Prob (F-statistic):              0.777\n",
       "Time:                        11:45:07   Log-Likelihood:                 102.66\n",
       "No. Observations:                  51   AIC:                            -201.3\n",
       "Df Residuals:                      49   BIC:                            -197.5\n",
       "Df Model:                           1                                         \n",
       "Covariance Type:            nonrobust                                         \n",
       "=======================================================================================\n",
       "                          coef    std err          t      P>|t|      [0.025      0.975]\n",
       "---------------------------------------------------------------------------------------\n",
       "const                   0.0134      0.005      2.611      0.012       0.003       0.024\n",
       "Market Equity Index     0.0420      0.148      0.285      0.777      -0.255       0.339\n",
       "==============================================================================\n",
       "Omnibus:                       12.273   Durbin-Watson:                   1.806\n",
       "Prob(Omnibus):                  0.002   Jarque-Bera (JB):               17.441\n",
       "Skew:                          -0.765   Prob(JB):                     0.000163\n",
       "Kurtosis:                       5.422   Cond. No.                         32.0\n",
       "==============================================================================\n",
       "\n",
       "Warnings:\n",
       "[1] Standard Errors assume that the covariance matrix of the errors is correctly specified.\n",
       "\"\"\""
      ]
     },
     "execution_count": 6,
     "metadata": {},
     "output_type": "execute_result"
    }
   ],
   "source": [
    "#2. Regression of LTCM Net Versus Equity Market Index\n",
    "y = df['net']\n",
    "X = sm.add_constant(df['Market Equity Index'])  # include intercept in regression\n",
    "res = sm.OLS(y,X, missing='drop').fit()  # drop all the missing data\n",
    "res.summary()"
   ]
  },
  {
   "cell_type": "markdown",
   "metadata": {},
   "source": [
    "### Q2.(a)"
   ]
  },
  {
   "cell_type": "code",
   "execution_count": 7,
   "metadata": {},
   "outputs": [
    {
     "data": {
      "text/plain": [
       "const                  0.013431\n",
       "Market Equity Index    0.042028\n",
       "dtype: float64"
      ]
     },
     "execution_count": 7,
     "metadata": {},
     "output_type": "execute_result"
    }
   ],
   "source": [
    "res.params"
   ]
  },
  {
   "cell_type": "code",
   "execution_count": 8,
   "metadata": {},
   "outputs": [
    {
     "data": {
      "text/plain": [
       "0.0016513307508558839"
      ]
     },
     "execution_count": 8,
     "metadata": {},
     "output_type": "execute_result"
    }
   ],
   "source": [
    "res.rsquared"
   ]
  },
  {
   "cell_type": "markdown",
   "metadata": {},
   "source": [
    "#### Q2(b). Since the R squared statistic is very low, LTCM does not appear to have much exposure to the Equity Market factor"
   ]
  },
  {
   "cell_type": "markdown",
   "metadata": {},
   "source": [
    "### 3. Regression based metrics"
   ]
  },
  {
   "cell_type": "markdown",
   "metadata": {},
   "source": [
    "### Q3(a) "
   ]
  },
  {
   "cell_type": "code",
   "execution_count": 9,
   "metadata": {},
   "outputs": [
    {
     "data": {
      "text/plain": [
       "0.33493135049057243"
      ]
     },
     "execution_count": 9,
     "metadata": {},
     "output_type": "execute_result"
    }
   ],
   "source": [
    "#3 Regression based Metrics\n",
    "alpha,beta=res.params\n",
    "TR = df[\"net\"].mean()/beta\n",
    "TR"
   ]
  },
  {
   "cell_type": "markdown",
   "metadata": {},
   "source": [
    "### Q3(b) "
   ]
  },
  {
   "cell_type": "code",
   "execution_count": 10,
   "metadata": {},
   "outputs": [
    {
     "data": {
      "text/plain": [
       "0.4113901278914985"
      ]
     },
     "execution_count": 10,
     "metadata": {},
     "output_type": "execute_result"
    }
   ],
   "source": [
    "IR = alpha/res.resid.std()\n",
    "IR"
   ]
  },
  {
   "cell_type": "markdown",
   "metadata": {},
   "source": [
    "### 4. Tail Risk"
   ]
  },
  {
   "cell_type": "markdown",
   "metadata": {},
   "source": [
    "### Q4(a)"
   ]
  },
  {
   "cell_type": "code",
   "execution_count": 11,
   "metadata": {},
   "outputs": [
    {
     "data": {
      "text/plain": [
       "-0.018099999999999998"
      ]
     },
     "execution_count": 11,
     "metadata": {},
     "output_type": "execute_result"
    }
   ],
   "source": [
    "#4 Tail Risk\n",
    "a=df['net'].nsmallest(5)\n",
    "a.iloc[4]"
   ]
  },
  {
   "cell_type": "markdown",
   "metadata": {},
   "source": [
    "### Q4(b) "
   ]
  },
  {
   "cell_type": "code",
   "execution_count": 12,
   "metadata": {},
   "outputs": [
    {
     "data": {
      "text/plain": [
       "-0.056575"
      ]
     },
     "execution_count": 12,
     "metadata": {},
     "output_type": "execute_result"
    }
   ],
   "source": [
    "(df['net'].nsmallest(4)).mean()"
   ]
  },
  {
   "cell_type": "markdown",
   "metadata": {},
   "source": [
    "### Q4(c)"
   ]
  },
  {
   "cell_type": "code",
   "execution_count": 13,
   "metadata": {},
   "outputs": [
    {
     "data": {
      "text/plain": [
       "-0.8573139307755567"
      ]
     },
     "execution_count": 13,
     "metadata": {},
     "output_type": "execute_result"
    }
   ],
   "source": [
    "df['net'].skew()"
   ]
  },
  {
   "cell_type": "markdown",
   "metadata": {},
   "source": [
    "####  The sample of net returns has a negative skewness of -0.85. This means that there is more weight in the right tail of the distribution  than a normal distribution. In our application this means that there are more values for net returns that are above the mean than below."
   ]
  },
  {
   "cell_type": "markdown",
   "metadata": {},
   "source": [
    "### Q4(d) "
   ]
  },
  {
   "cell_type": "code",
   "execution_count": 14,
   "metadata": {},
   "outputs": [
    {
     "data": {
      "text/plain": [
       "2.9878671881397456"
      ]
     },
     "execution_count": 14,
     "metadata": {},
     "output_type": "execute_result"
    }
   ],
   "source": [
    "df['net'].kurtosis()"
   ]
  },
  {
   "cell_type": "markdown",
   "metadata": {},
   "source": [
    "#### The sample of net returns has a kurtosis of 2.98 which is very close to the normal distribution’s of kurtosis of 3. This means that the net returns sample does not have heavier or lighter tails than a normal distribution. A high kurtosis would imply heavy tails and in turn a lot of outliers, but our kurtosis is very similar to the kurtosis of a normal distribution. "
   ]
  },
  {
   "cell_type": "markdown",
   "metadata": {},
   "source": [
    "# 3 Other Hedge Fund Indexes"
   ]
  },
  {
   "cell_type": "markdown",
   "metadata": {},
   "source": [
    "### 1. Summary Statistics for Total Index"
   ]
  },
  {
   "cell_type": "code",
   "execution_count": 15,
   "metadata": {},
   "outputs": [
    {
     "data": {
      "text/html": [
       "<div>\n",
       "<style scoped>\n",
       "    .dataframe tbody tr th:only-of-type {\n",
       "        vertical-align: middle;\n",
       "    }\n",
       "\n",
       "    .dataframe tbody tr th {\n",
       "        vertical-align: top;\n",
       "    }\n",
       "\n",
       "    .dataframe thead th {\n",
       "        text-align: right;\n",
       "    }\n",
       "</style>\n",
       "<table border=\"1\" class=\"dataframe\">\n",
       "  <thead>\n",
       "    <tr style=\"text-align: right;\">\n",
       "      <th></th>\n",
       "      <th>Total Index</th>\n",
       "    </tr>\n",
       "    <tr>\n",
       "      <th>date</th>\n",
       "      <th></th>\n",
       "    </tr>\n",
       "  </thead>\n",
       "  <tbody>\n",
       "    <tr>\n",
       "      <th>1994-04-30</th>\n",
       "      <td>-0.0196</td>\n",
       "    </tr>\n",
       "    <tr>\n",
       "      <th>1994-05-31</th>\n",
       "      <td>0.0198</td>\n",
       "    </tr>\n",
       "    <tr>\n",
       "      <th>1994-06-30</th>\n",
       "      <td>-0.0104</td>\n",
       "    </tr>\n",
       "    <tr>\n",
       "      <th>1994-07-31</th>\n",
       "      <td>0.0010</td>\n",
       "    </tr>\n",
       "    <tr>\n",
       "      <th>1994-08-31</th>\n",
       "      <td>0.0256</td>\n",
       "    </tr>\n",
       "  </tbody>\n",
       "</table>\n",
       "</div>"
      ],
      "text/plain": [
       "            Total Index\n",
       "date                   \n",
       "1994-04-30      -0.0196\n",
       "1994-05-31       0.0198\n",
       "1994-06-30      -0.0104\n",
       "1994-07-31       0.0010\n",
       "1994-08-31       0.0256"
      ]
     },
     "execution_count": 15,
     "metadata": {},
     "output_type": "execute_result"
    }
   ],
   "source": [
    "#1 Summary Statistics\n",
    "df_3=df[[\"Total Index\"]]\n",
    "df_3.head()"
   ]
  },
  {
   "cell_type": "code",
   "execution_count": 16,
   "metadata": {},
   "outputs": [],
   "source": [
    "mu_3=df_3[\"Total Index\"].mean()*12\n",
    "vol_3=df_3[\"Total Index\"].std()*m.sqrt(12)\n",
    "skew_3=df_3[\"Total Index\"].skew()\n",
    "kurt_3=df_3[\"Total Index\"].kurtosis()\n",
    "fifth_retsx=df_3[\"Total Index\"].quantile(0.05)\n"
   ]
  },
  {
   "cell_type": "code",
   "execution_count": 17,
   "metadata": {},
   "outputs": [
    {
     "data": {
      "text/html": [
       "<div>\n",
       "<style scoped>\n",
       "    .dataframe tbody tr th:only-of-type {\n",
       "        vertical-align: middle;\n",
       "    }\n",
       "\n",
       "    .dataframe tbody tr th {\n",
       "        vertical-align: top;\n",
       "    }\n",
       "\n",
       "    .dataframe thead th {\n",
       "        text-align: right;\n",
       "    }\n",
       "</style>\n",
       "<table border=\"1\" class=\"dataframe\">\n",
       "  <thead>\n",
       "    <tr style=\"text-align: right;\">\n",
       "      <th></th>\n",
       "      <th>Annualized Mean</th>\n",
       "      <th>Annualized Volatility</th>\n",
       "      <th>Skewness</th>\n",
       "      <th>Kurtosis</th>\n",
       "      <th>5th percentile of returns</th>\n",
       "    </tr>\n",
       "  </thead>\n",
       "  <tbody>\n",
       "    <tr>\n",
       "      <th>0</th>\n",
       "      <td>0.060352</td>\n",
       "      <td>0.073219</td>\n",
       "      <td>-0.257508</td>\n",
       "      <td>2.775748</td>\n",
       "      <td>-0.02662</td>\n",
       "    </tr>\n",
       "  </tbody>\n",
       "</table>\n",
       "</div>"
      ],
      "text/plain": [
       "   Annualized Mean  Annualized Volatility  Skewness  Kurtosis  \\\n",
       "0         0.060352               0.073219 -0.257508  2.775748   \n",
       "\n",
       "   5th percentile of returns  \n",
       "0                   -0.02662  "
      ]
     },
     "execution_count": 17,
     "metadata": {},
     "output_type": "execute_result"
    }
   ],
   "source": [
    "df_ss_total_index=pd.DataFrame(data={\"Annualized Mean\":mu_3,\"Annualized Volatility\":vol_3,\"Skewness\":skew_3,\"Kurtosis\":kurt_3,\"5th percentile of returns\":fifth_retsx},index=[0])\n",
    "df_ss_total_index"
   ]
  },
  {
   "cell_type": "markdown",
   "metadata": {},
   "source": [
    "### 2. Series Of Regression On Market Equity factor"
   ]
  },
  {
   "cell_type": "code",
   "execution_count": 18,
   "metadata": {},
   "outputs": [
    {
     "data": {
      "text/html": [
       "<div>\n",
       "<style scoped>\n",
       "    .dataframe tbody tr th:only-of-type {\n",
       "        vertical-align: middle;\n",
       "    }\n",
       "\n",
       "    .dataframe tbody tr th {\n",
       "        vertical-align: top;\n",
       "    }\n",
       "\n",
       "    .dataframe thead th {\n",
       "        text-align: right;\n",
       "    }\n",
       "</style>\n",
       "<table border=\"1\" class=\"dataframe\">\n",
       "  <thead>\n",
       "    <tr style=\"text-align: right;\">\n",
       "      <th></th>\n",
       "      <th>alpha</th>\n",
       "      <th>beta</th>\n",
       "      <th>rsquared</th>\n",
       "      <th>Information Ratio</th>\n",
       "      <th>Treynor Ratio</th>\n",
       "    </tr>\n",
       "  </thead>\n",
       "  <tbody>\n",
       "    <tr>\n",
       "      <th>Total Index</th>\n",
       "      <td>0.003487</td>\n",
       "      <td>0.283865</td>\n",
       "      <td>0.380517</td>\n",
       "      <td>0.209630</td>\n",
       "      <td>0.017717</td>\n",
       "    </tr>\n",
       "    <tr>\n",
       "      <th>Convertible Arbitrage</th>\n",
       "      <td>0.002909</td>\n",
       "      <td>0.166726</td>\n",
       "      <td>0.149684</td>\n",
       "      <td>0.159404</td>\n",
       "      <td>0.022883</td>\n",
       "    </tr>\n",
       "    <tr>\n",
       "      <th>Dedicated Short Bias</th>\n",
       "      <td>-0.000757</td>\n",
       "      <td>-0.866493</td>\n",
       "      <td>0.672015</td>\n",
       "      <td>-0.027218</td>\n",
       "      <td>0.006305</td>\n",
       "    </tr>\n",
       "    <tr>\n",
       "      <th>Emerging Markets</th>\n",
       "      <td>0.001398</td>\n",
       "      <td>0.531952</td>\n",
       "      <td>0.337464</td>\n",
       "      <td>0.040822</td>\n",
       "      <td>0.008059</td>\n",
       "    </tr>\n",
       "    <tr>\n",
       "      <th>Equity Market Neutral</th>\n",
       "      <td>0.001033</td>\n",
       "      <td>0.189443</td>\n",
       "      <td>0.087532</td>\n",
       "      <td>0.036760</td>\n",
       "      <td>0.010883</td>\n",
       "    </tr>\n",
       "    <tr>\n",
       "      <th>Event Driven</th>\n",
       "      <td>0.003637</td>\n",
       "      <td>0.260557</td>\n",
       "      <td>0.444351</td>\n",
       "      <td>0.271775</td>\n",
       "      <td>0.019391</td>\n",
       "    </tr>\n",
       "    <tr>\n",
       "      <th>Event Driven Distressed</th>\n",
       "      <td>0.004474</td>\n",
       "      <td>0.261788</td>\n",
       "      <td>0.411812</td>\n",
       "      <td>0.311304</td>\n",
       "      <td>0.022520</td>\n",
       "    </tr>\n",
       "    <tr>\n",
       "      <th>Event Driven Multi-Strategy</th>\n",
       "      <td>0.003227</td>\n",
       "      <td>0.263297</td>\n",
       "      <td>0.384818</td>\n",
       "      <td>0.211050</td>\n",
       "      <td>0.017689</td>\n",
       "    </tr>\n",
       "    <tr>\n",
       "      <th>Event Driven Risk Arbitrage</th>\n",
       "      <td>0.002018</td>\n",
       "      <td>0.144703</td>\n",
       "      <td>0.319237</td>\n",
       "      <td>0.207963</td>\n",
       "      <td>0.019381</td>\n",
       "    </tr>\n",
       "    <tr>\n",
       "      <th>Fixed Income Arbitrage</th>\n",
       "      <td>0.001607</td>\n",
       "      <td>0.120289</td>\n",
       "      <td>0.113664</td>\n",
       "      <td>0.104190</td>\n",
       "      <td>0.018796</td>\n",
       "    </tr>\n",
       "    <tr>\n",
       "      <th>Global Macro</th>\n",
       "      <td>0.006921</td>\n",
       "      <td>0.140652</td>\n",
       "      <td>0.056915</td>\n",
       "      <td>0.263175</td>\n",
       "      <td>0.054637</td>\n",
       "    </tr>\n",
       "    <tr>\n",
       "      <th>Long/Short Equity</th>\n",
       "      <td>0.003033</td>\n",
       "      <td>0.456107</td>\n",
       "      <td>0.552227</td>\n",
       "      <td>0.160760</td>\n",
       "      <td>0.012081</td>\n",
       "    </tr>\n",
       "    <tr>\n",
       "      <th>Managed Futures</th>\n",
       "      <td>0.002814</td>\n",
       "      <td>-0.076733</td>\n",
       "      <td>0.010856</td>\n",
       "      <td>0.083650</td>\n",
       "      <td>-0.031243</td>\n",
       "    </tr>\n",
       "    <tr>\n",
       "      <th>Multi-Strategy</th>\n",
       "      <td>0.003296</td>\n",
       "      <td>0.136491</td>\n",
       "      <td>0.165587</td>\n",
       "      <td>0.234201</td>\n",
       "      <td>0.029580</td>\n",
       "    </tr>\n",
       "  </tbody>\n",
       "</table>\n",
       "</div>"
      ],
      "text/plain": [
       "                                alpha      beta  rsquared  Information Ratio  \\\n",
       "Total Index                  0.003487  0.283865  0.380517           0.209630   \n",
       "Convertible Arbitrage        0.002909  0.166726  0.149684           0.159404   \n",
       "Dedicated Short Bias        -0.000757 -0.866493  0.672015          -0.027218   \n",
       "Emerging Markets             0.001398  0.531952  0.337464           0.040822   \n",
       "Equity Market Neutral        0.001033  0.189443  0.087532           0.036760   \n",
       "Event Driven                 0.003637  0.260557  0.444351           0.271775   \n",
       "Event Driven Distressed      0.004474  0.261788  0.411812           0.311304   \n",
       "Event Driven Multi-Strategy  0.003227  0.263297  0.384818           0.211050   \n",
       "Event Driven Risk Arbitrage  0.002018  0.144703  0.319237           0.207963   \n",
       "Fixed Income Arbitrage       0.001607  0.120289  0.113664           0.104190   \n",
       "Global Macro                 0.006921  0.140652  0.056915           0.263175   \n",
       "Long/Short Equity            0.003033  0.456107  0.552227           0.160760   \n",
       "Managed Futures              0.002814 -0.076733  0.010856           0.083650   \n",
       "Multi-Strategy               0.003296  0.136491  0.165587           0.234201   \n",
       "\n",
       "                             Treynor Ratio  \n",
       "Total Index                       0.017717  \n",
       "Convertible Arbitrage             0.022883  \n",
       "Dedicated Short Bias              0.006305  \n",
       "Emerging Markets                  0.008059  \n",
       "Equity Market Neutral             0.010883  \n",
       "Event Driven                      0.019391  \n",
       "Event Driven Distressed           0.022520  \n",
       "Event Driven Multi-Strategy       0.017689  \n",
       "Event Driven Risk Arbitrage       0.019381  \n",
       "Fixed Income Arbitrage            0.018796  \n",
       "Global Macro                      0.054637  \n",
       "Long/Short Equity                 0.012081  \n",
       "Managed Futures                  -0.031243  \n",
       "Multi-Strategy                    0.029580  "
      ]
     },
     "execution_count": 18,
     "metadata": {},
     "output_type": "execute_result"
    }
   ],
   "source": [
    "#2 Series of Regression\n",
    "regressand = df.columns[2:-1]   # all the series required to run regression\n",
    "X = sm.add_constant(df['Market Equity Index'])\n",
    "stats = []\n",
    "for y in regressand:\n",
    "    y = df[y]\n",
    "    res = sm.OLS(y,X,missing='drop').fit()\n",
    "    alpha,beta=res.params\n",
    "    rsquared=res.rsquared\n",
    "    IR= alpha/res.resid.std()\n",
    "    TR=y.mean()/beta\n",
    "    stats.append([alpha,beta,rsquared,IR,TR])\n",
    "    \n",
    "pd.DataFrame(stats, index = regressand, columns=['alpha', 'beta', 'rsquared', 'Information Ratio','Treynor Ratio'])"
   ]
  },
  {
   "cell_type": "code",
   "execution_count": null,
   "metadata": {},
   "outputs": [],
   "source": []
  }
 ],
 "metadata": {
  "kernelspec": {
   "display_name": "Python 3",
   "language": "python",
   "name": "python3"
  },
  "language_info": {
   "codemirror_mode": {
    "name": "ipython",
    "version": 3
   },
   "file_extension": ".py",
   "mimetype": "text/x-python",
   "name": "python",
   "nbconvert_exporter": "python",
   "pygments_lexer": "ipython3",
   "version": "3.7.3"
  }
 },
 "nbformat": 4,
 "nbformat_minor": 2
}
